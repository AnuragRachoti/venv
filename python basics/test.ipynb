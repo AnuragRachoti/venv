{
 "cells": [
  {
   "cell_type": "markdown",
   "source": [
    "###Python Example"
   ],
   "metadata": {}
  },
  {
   "cell_type": "markdown",
   "source": [],
   "metadata": {}
  },
  {
   "cell_type": "code",
   "execution_count": null,
   "source": [
    "1+1"
   ],
   "outputs": [],
   "metadata": {}
  },
  {
   "cell_type": "code",
   "execution_count": null,
   "source": [
    "\n",
    "\n"
   ],
   "outputs": [],
   "metadata": {}
  }
 ],
 "metadata": {
  "orig_nbformat": 4,
  "language_info": {
   "name": "python",
   "version": "3.12.0"
  },
  "kernelspec": {
   "name": "python3",
   "display_name": "Python 3.12.0 64-bit (conda)"
  },
  "interpreter": {
   "hash": "9d88f13cfa08fc207dcbe39abed4922509e74ed06c5d41c7cf2d554b40e50425"
  }
 },
 "nbformat": 4,
 "nbformat_minor": 2
}
{
 "cells": [
  {
   "cell_type": "code",
   "execution_count": 1,
   "metadata": {},
   "outputs": [
    {
     "name": "stdout",
     "output_type": "stream",
     "text": [
      "\n",
      "The query you provided aims to calculate the daily admissions and the cumulative difference between consecutive days. However, there are a few issues with the SQL syntax and logic. Here's the corrected query:\n",
      "\n",
      "sql\n",
      "Copy code\n",
      "SELECT\n",
      "    admission_date,\n",
      "    COUNT(*) AS admission_day,\n",
      "    COUNT(*) - LAG(COUNT(*)) OVER (ORDER BY admission_date) AS cumulative_difference\n",
      "FROM\n",
      "    admissions\n",
      "GROUP BY\n",
      "    admission_date\n",
      "ORDER BY\n",
      "    admission_date;\n",
      "Explanation:\n",
      "COUNT(*) counts the number of admissions for each admission_date.\n",
      "LAG(COUNT(*)) OVER (ORDER BY admission_date) calculates the count of admissions for the previous day.\n",
      "The difference is calculated as COUNT(*) - LAG(COUNT(*)).\n",
      "The query groups by admission_date and orders the results by admission_date.\n",
      "Ensure that the admissions table has an admission_date column with date values. This query will provide you with the count of admissions for each day and the difference in admissions compared to the previous day.\n"
     ]
    }
   ],
   "source": [
    "with open('sql.txt', mode='r') as file:\n",
    "    content = file.read()\n",
    "    print(content)"
   ]
  },
  {
   "cell_type": "code",
   "execution_count": 3,
   "metadata": {},
   "outputs": [
    {
     "name": "stdout",
     "output_type": "stream",
     "text": [
      "\n",
      "The query you provided aims to calculate the daily admissions and the cumulative difference between consecutive days. However, there are a few issues with the SQL syntax and logic. Here's the corrected query:\n",
      "\n",
      "sql\n",
      "Copy code\n",
      "SELECT\n",
      "admission_date,\n",
      "COUNT(*) AS admission_day,\n",
      "COUNT(*) - LAG(COUNT(*)) OVER (ORDER BY admission_date) AS cumulative_difference\n",
      "FROM\n",
      "admissions\n",
      "GROUP BY\n",
      "admission_date\n",
      "ORDER BY\n",
      "admission_date;\n",
      "Explanation:\n",
      "COUNT(*) counts the number of admissions for each admission_date.\n",
      "LAG(COUNT(*)) OVER (ORDER BY admission_date) calculates the count of admissions for the previous day.\n",
      "The difference is calculated as COUNT(*) - LAG(COUNT(*)).\n",
      "The query groups by admission_date and orders the results by admission_date.\n",
      "Ensure that the admissions table has an admission_date column with date values. This query will provide you with the count of admissions for each day and the difference in admissions compared to the previous day.\n"
     ]
    }
   ],
   "source": [
    "with open('sql.txt', 'r') as file:\n",
    "    for line in file:\n",
    "        print(line.strip())  ##strip() removes new line charachters"
   ]
  },
  {
   "cell_type": "code",
   "execution_count": 6,
   "metadata": {},
   "outputs": [],
   "source": [
    "## writing a file\n",
    "##(over wrtiing)\n",
    "\n",
    "with open('sql.txt', 'w') as file:\n",
    "    file.write('Hello world\\n')\n",
    "    file.write('this is new line\\n')"
   ]
  },
  {
   "cell_type": "code",
   "execution_count": 7,
   "metadata": {},
   "outputs": [],
   "source": [
    "## writing a file\n",
    "##(without over wrtiing)\n",
    "\n",
    "with open('sql.txt','a') as file:\n",
    "    file.write('''The query you provided aims to calculate the daily admissions and the cumulative difference between consecutive days. However, there are a few issues with the SQL syntax and logic. Here's the corrected query:\n",
    "\n",
    "sql\n",
    "Copy code\n",
    "SELECT\n",
    "    admission_date,\n",
    "    COUNT(*) AS admission_day,\n",
    "    COUNT(*) - LAG(COUNT(*)) OVER (ORDER BY admission_date) AS cumulative_difference\n",
    "FROM\n",
    "    admissions\n",
    "GROUP BY\n",
    "    admission_date\n",
    "ORDER BY\n",
    "    admission_date;\n",
    "Explanation:\n",
    "COUNT(*) counts the number of admissions for each admission_date.\n",
    "LAG(COUNT(*)) OVER (ORDER BY admission_date) calculates the count of admissions for the previous day.\n",
    "The difference is calculated as COUNT(*) - LAG(COUNT(*)).\n",
    "The query groups by admission_date and orders the results by admission_date.\n",
    "Ensure that the admissions table has an admission_date column with date values. This query will provide you with the count of admissions for each day and the difference in admissions compared to the previous day.''')\n"
   ]
  },
  {
   "cell_type": "code",
   "execution_count": 10,
   "metadata": {},
   "outputs": [
    {
     "name": "stdout",
     "output_type": "stream",
     "text": [
      "source data is present needed to be transfered\n",
      "to target\n",
      "\n"
     ]
    }
   ],
   "source": [
    "### read the content from source text file\n",
    "## to destination file.\n",
    "\n",
    "with open('source.txt', 'r') as file:\n",
    "    content = file.read()\n",
    "    print(content)\n",
    "\n",
    "\n",
    "with open('destination.txt','w') as d_file:\n",
    "    d_file.write(content)\n",
    "\n",
    "\n"
   ]
  },
  {
   "cell_type": "code",
   "execution_count": 31,
   "metadata": {},
   "outputs": [
    {
     "name": "stdout",
     "output_type": "stream",
     "text": [
      "source data is present needed to be transfered\n",
      "\n",
      "to target\n",
      "\n",
      "2 10 57\n"
     ]
    }
   ],
   "source": [
    "### read the text file and count the number of lines, characters and words.\n",
    "\n",
    "with open('source.txt','r') as file:\n",
    "    content = file.readlines()\n",
    "    line_count = 0\n",
    "\n",
    "    for line in content:\n",
    "      print(line)\n",
    "      line_count+=1\n",
    "\n",
    "    words_count = sum(len(line.split()) for line in content)\n",
    "    char_count = sum(len(line) for line in content)\n",
    "\n",
    "    print(line_count, words_count, char_count)\n",
    "        "
   ]
  },
  {
   "cell_type": "code",
   "execution_count": 33,
   "metadata": {},
   "outputs": [
    {
     "name": "stdout",
     "output_type": "stream",
     "text": [
      "dengithe devara antav... ;lol;\n"
     ]
    }
   ],
   "source": [
    "##writing and then reading a file\n",
    "\n",
    "with open('source.txt','w+') as file:\n",
    "    file.write('dengithe devara antav... ;lol;')\n",
    "\n",
    "    ###move the file cursor to the begining\n",
    "    file.seek(0)\n",
    "\n",
    "    ##read the content of the file\n",
    "    content = file.read()\n",
    "    print(content)\n"
   ]
  },
  {
   "cell_type": "code",
   "execution_count": 35,
   "metadata": {},
   "outputs": [
    {
     "name": "stdout",
     "output_type": "stream",
     "text": [
      "Directory packagesss create\n"
     ]
    }
   ],
   "source": [
    "### creating a new directory \n",
    "\n",
    "import os \n",
    "\n",
    "new_directory = 'packagesss'\n",
    "os.mkdir(new_directory)\n",
    "print(f'Directory {new_directory} create')"
   ]
  },
  {
   "cell_type": "code",
   "execution_count": 36,
   "metadata": {},
   "outputs": [
    {
     "name": "stdout",
     "output_type": "stream",
     "text": [
      "['destination.txt', 'sql.txt', 'source.txt', 'example.bin', 'file_operations.ipynb', 'package', 'packagesss']\n"
     ]
    }
   ],
   "source": [
    "###listing files and directories\n",
    "\n",
    "items = os.listdir('.')\n",
    "\n",
    "print(items)"
   ]
  },
  {
   "cell_type": "code",
   "execution_count": 38,
   "metadata": {},
   "outputs": [
    {
     "name": "stdout",
     "output_type": "stream",
     "text": [
      "/Users/anuragrachoti/PYTHON/venv/ssl/File_handling/folder/file.txt\n"
     ]
    }
   ],
   "source": [
    "###joining paths\n",
    "\n",
    "dir_name = 'folder'\n",
    "\n",
    "file_name = 'file.txt'\n",
    "\n",
    "full_path = os.path.join(os.getcwd(), dir_name, file_name)\n",
    "print(full_path)"
   ]
  },
  {
   "cell_type": "code",
   "execution_count": 39,
   "metadata": {},
   "outputs": [
    {
     "name": "stdout",
     "output_type": "stream",
     "text": [
      "the path example1.txt does not exists\n"
     ]
    }
   ],
   "source": [
    "path = 'example1.txt'\n",
    "\n",
    "if os.path.exists(path):\n",
    "    print(f'the path{path} exists')\n",
    "else:\n",
    "    print(f'the path {path} does not exists')"
   ]
  },
  {
   "cell_type": "code",
   "execution_count": 42,
   "metadata": {},
   "outputs": [
    {
     "name": "stdout",
     "output_type": "stream",
     "text": [
      "source.txt is file\n"
     ]
    }
   ],
   "source": [
    "import os \n",
    "\n",
    "path = 'source.txt'\n",
    "\n",
    "if os.path.isfile(path):\n",
    "    print(f'{path} is file')\n",
    "\n",
    "elif os.path.isdir(path):\n",
    "    print(f'{path} is path')\n",
    "\n",
    "else:\n",
    "    print('not a path not a file')"
   ]
  },
  {
   "cell_type": "code",
   "execution_count": null,
   "metadata": {},
   "outputs": [],
   "source": []
  }
 ],
 "metadata": {
  "kernelspec": {
   "display_name": "Python 3",
   "language": "python",
   "name": "python3"
  },
  "language_info": {
   "codemirror_mode": {
    "name": "ipython",
    "version": 3
   },
   "file_extension": ".py",
   "mimetype": "text/x-python",
   "name": "python",
   "nbconvert_exporter": "python",
   "pygments_lexer": "ipython3",
   "version": "3.12.0"
  }
 },
 "nbformat": 4,
 "nbformat_minor": 2
}

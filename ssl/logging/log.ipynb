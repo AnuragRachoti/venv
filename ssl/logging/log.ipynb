{
 "cells": [
  {
   "cell_type": "markdown",
   "metadata": {},
   "source": [
    "###Logging is a crucial aspect of any application, providing a way to track events, errors and operational information."
   ]
  },
  {
   "cell_type": "code",
   "execution_count": 2,
   "metadata": {},
   "outputs": [
    {
     "name": "stderr",
     "output_type": "stream",
     "text": [
      "DEBUG:root:This is debug message\n",
      "INFO:root:this is info message\n",
      "WARNING:root:this is warning message\n",
      "ERROR:root:this is error message\n",
      "CRITICAL:root:this is critical message\n"
     ]
    }
   ],
   "source": [
    "import logging \n",
    "\n",
    "##configure basic logging settings\n",
    "\n",
    "logging.basicConfig(level=logging.DEBUG)\n",
    "logging.debug('This is debug message')\n",
    "logging.info('this is info message')\n",
    "logging.warning('this is warning message')\n",
    "logging.error('this is error message')\n",
    "logging.critical('this is critical message')\n"
   ]
  },
  {
   "cell_type": "markdown",
   "metadata": {},
   "source": [
    "###PYTHON LOGGING LEVELS\n",
    "DEBUG - Details information typically of intrest only when diagnosing problems\n",
    "INFO - Confirmation that things are working as expected\n",
    "WARNING - An Indication that something unexpected happened or indicative of some problem in the near future\n",
    "ERROR - Due to a more serious problem, then software has not been able to perform expected logic or task.\n",
    "CRITICAL - A very serious error, indicating that the program itself maybe unable to continue running. "
   ]
  },
  {
   "cell_type": "code",
   "execution_count": 2,
   "metadata": {},
   "outputs": [],
   "source": [
    "##configuring the logging.\n",
    "import logging\n",
    "\n",
    "logging.basicConfig(\n",
    "    filename = 'app.log',\n",
    "    filemode='w',\n",
    "    level = logging.DEBUG,\n",
    "    format = '%(asctime)s-%(name)s-%(levelname)s-%(message)s',\n",
    "    datefmt='%Y-%m-%d %H:%M:%S'\n",
    ")\n",
    "\n",
    "\n",
    "logging.basicConfig(level=logging.DEBUG)\n",
    "logging.debug('This is debug message')\n",
    "logging.info('this is info message')\n",
    "logging.warning('this is warning message')\n",
    "logging.error('this is error message')\n",
    "logging.critical('this is critical message')\n",
    "\n"
   ]
  },
  {
   "cell_type": "code",
   "execution_count": 3,
   "metadata": {},
   "outputs": [],
   "source": [
    "logging.warning('this is warning message')\n",
    "logging.error('this is error message')\n",
    "logging.critical('this is critical message')"
   ]
  },
  {
   "cell_type": "code",
   "execution_count": 4,
   "metadata": {},
   "outputs": [],
   "source": [
    "logging.warning('this is warning message')\n",
    "logging.error('this is error message')\n",
    "logging.critical('this is critical message')\n",
    "logging.warning('this is warning message')\n",
    "logging.error('this is error message')\n",
    "logging.critical('this is critical message')\n",
    "logging.debug('This is debug message')\n",
    "logging.info('this is info message')"
   ]
  },
  {
   "cell_type": "code",
   "execution_count": null,
   "metadata": {},
   "outputs": [],
   "source": []
  }
 ],
 "metadata": {
  "kernelspec": {
   "display_name": "Python 3",
   "language": "python",
   "name": "python3"
  },
  "language_info": {
   "codemirror_mode": {
    "name": "ipython",
    "version": 3
   },
   "file_extension": ".py",
   "mimetype": "text/x-python",
   "name": "python",
   "nbconvert_exporter": "python",
   "pygments_lexer": "ipython3",
   "version": "3.12.0"
  }
 },
 "nbformat": 4,
 "nbformat_minor": 2
}

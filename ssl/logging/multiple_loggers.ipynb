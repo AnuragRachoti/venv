{
 "cells": [
  {
   "cell_type": "code",
   "execution_count": 2,
   "metadata": {},
   "outputs": [],
   "source": [
    "import logging\n",
    "### creating a logger for a module1\n",
    "\n",
    "logger1 = logging.getLogger('module1')\n",
    "logger1.setLevel(logging.DEBUG)\n",
    "\n",
    "#for module2\n",
    "\n",
    "logger2 = logging.getLogger('module2')\n",
    "logger2.setLevel(logging.WARNING)\n",
    "\n",
    "#Configuring a BASIC config setting.\n",
    "\n",
    "logging.basicConfig(\n",
    "    level = logging.DEBUG,\n",
    "    format = '%(asctime)s - %(name)s - %(levelname)s - %(message)s',\n",
    "    datefmt = '%Y-%m-%d %H:%M:%S'\n",
    "\n",
    ")\n",
    "\n"
   ]
  },
  {
   "cell_type": "code",
   "execution_count": 3,
   "metadata": {},
   "outputs": [
    {
     "name": "stderr",
     "output_type": "stream",
     "text": [
      "2024-10-14 22:50:06 - module1 - DEBUG - This is the debug message for moduel1\n",
      "2024-10-14 22:50:06 - module2 - WARNING - This is the warning message for module2\n"
     ]
    }
   ],
   "source": [
    "###log messages with different loggers\n",
    "\n",
    "logger1.debug('This is the debug message for moduel1')\n",
    "logger2.warning('This is the warning message for module2')"
   ]
  },
  {
   "cell_type": "code",
   "execution_count": null,
   "metadata": {},
   "outputs": [],
   "source": []
  }
 ],
 "metadata": {
  "kernelspec": {
   "display_name": "Python 3",
   "language": "python",
   "name": "python3"
  },
  "language_info": {
   "codemirror_mode": {
    "name": "ipython",
    "version": 3
   },
   "file_extension": ".py",
   "mimetype": "text/x-python",
   "name": "python",
   "nbconvert_exporter": "python",
   "pygments_lexer": "ipython3",
   "version": "3.12.0"
  }
 },
 "nbformat": 4,
 "nbformat_minor": 2
}

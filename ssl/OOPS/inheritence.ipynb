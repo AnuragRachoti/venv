{
 "cells": [
  {
   "cell_type": "code",
   "execution_count": 3,
   "metadata": {},
   "outputs": [
    {
     "name": "stdout",
     "output_type": "stream",
     "text": [
      "the person will drive the petrol car car\n"
     ]
    }
   ],
   "source": [
    "###Inheritance\n",
    "\n",
    "class Car:\n",
    "    def __init__(self, windows, doors, enginetypes):\n",
    "        self.windows = windows\n",
    "        self.doors = doors\n",
    "        self.enginetypes = enginetypes\n",
    "\n",
    "    def drive(self):\n",
    "        print(f'the person will drive the {self.enginetypes} car')\n",
    "\n",
    "    \n",
    "car1 = Car(4,5,'petrol car')\n",
    "car1.drive()\n",
    "\n",
    "\n",
    "\n"
   ]
  },
  {
   "cell_type": "code",
   "execution_count": 6,
   "metadata": {},
   "outputs": [
    {
     "name": "stdout",
     "output_type": "stream",
     "text": [
      "the person will drive the EV car\n"
     ]
    }
   ],
   "source": [
    "class Tesla(Car):\n",
    "    def __init__(self, windows, doors, enginetypes,is_selfdriving):\n",
    "        super().__init__(windows,doors,enginetypes)\n",
    "        self.is_selfdriving = is_selfdriving \n",
    "\n",
    "    def self_driving(self):\n",
    "        print(f'tesla supports self driving {self.is_selfdriving}')\n",
    "\n",
    "tesla1 = Tesla(4,5,'EV',True)\n",
    "tesla1.drive()\n",
    "\n"
   ]
  },
  {
   "cell_type": "code",
   "execution_count": 18,
   "metadata": {},
   "outputs": [
    {
     "name": "stdout",
     "output_type": "stream",
     "text": [
      "tony speaks as woof\n",
      "owner:anurag\n"
     ]
    }
   ],
   "source": [
    "###multiple inheritence\n",
    "## it is the the process were it has multiple base classes\n",
    "\n",
    "class Animal:\n",
    "    def __init__(self,name):\n",
    "        self.name = name\n",
    "    \n",
    "    def speak(self):\n",
    "        print(f'{self.name} is my name')\n",
    "\n",
    "\n",
    "#base class1\n",
    "class Pet:\n",
    "     def __init__(self,owner):\n",
    "          self.owner = owner\n",
    "\n",
    "\n",
    "#base class 2\n",
    "\n",
    "class Dog(Animal):\n",
    "     def __init__(self,name,owner):\n",
    "          Animal.__init__(self,name)\n",
    "          Pet.__init__(self,owner)\n",
    "\n",
    "     def speak(self):\n",
    "          print(f'{self.name} speaks as woof')\n",
    "          \n",
    "     \n",
    "\n",
    "\n",
    "pet1 = Dog('tony','anurag')\n",
    "pet1.speak()\n",
    "print(f'owner:{pet1.owner}')"
   ]
  },
  {
   "cell_type": "code",
   "execution_count": 25,
   "metadata": {},
   "outputs": [
    {
     "name": "stdout",
     "output_type": "stream",
     "text": [
      "sound is woof\n",
      "sound is meaow\n",
      "sound is meaow\n"
     ]
    }
   ],
   "source": [
    "###Use case \n",
    "## modelling a complete library system. using single and \n",
    "##multiple inheritance.\n",
    "\n",
    "#polymorphism\n",
    "\n",
    "#method overriding \n",
    "\n",
    "# base class\n",
    "\n",
    "class Animal():\n",
    "    def speak(self):\n",
    "        print('sound of animal')\n",
    "\n",
    "\n",
    "##derived class\n",
    "\n",
    "class Dog(Animal):\n",
    "    def speak(self):\n",
    "        return 'sound is woof'\n",
    "    \n",
    "\n",
    "class Cat(Animal):\n",
    "    def speak(self):\n",
    "        return 'sound is meaow'\n",
    "    \n",
    "\n",
    "###function that demonstrates polumorphism\n",
    "def animal_speak(animal):\n",
    "    print(animal.speak())\n",
    "\n",
    "\n",
    "\n",
    "\n",
    "dog = Dog()\n",
    "print(dog.speak())\n",
    "\n",
    "cat = Cat()\n",
    "print(cat.speak())\n",
    "animal_speak(cat)\n"
   ]
  },
  {
   "cell_type": "code",
   "execution_count": null,
   "metadata": {},
   "outputs": [],
   "source": [
    "##polymorphism with functions and methods\n",
    "## base class\n",
    "\n",
    "class Shape():\n",
    "    def area(self):\n",
    "        return 'the area of the figure'\n",
    "\n",
    "\n",
    "#derived class\n",
    "class Rectangle(Shape):\n",
    "    def __init__(self,width, height,name):\n",
    "        self.width = width\n",
    "        self.height = height\n",
    "        self.name = name\n",
    "\n",
    "    def area(self):\n",
    "        return f'area of {self.name} is + {self.width}* {self.height}'\n",
    "\n",
    "\n",
    "#derived class 2\n",
    "\n",
    "class Circle(Shape):\n",
    "    def __init__(self,radius,name):\n",
    "        self.radius =radius\n",
    "        self.name = name\n",
    "\n",
    "    def area(self):\n",
    "        return f'area of {self.name} is ' + 3.14 * self.radius **2\n",
    "    \n",
    "#function that demonstrates polumorphism\n",
    "\n",
    "def print_area(shape):\n",
    "    print(f'the area is {shape.area()}')\n",
    "\n",
    "\n",
    "rectangle = Rectangle(4,5,'rectangle')\n",
    "circle = Circle(4,'circle')\n",
    "\n",
    "print_area(circle)\n",
    "print_area(rectangle)\n",
    "\n",
    "###implement name also in the above functionality"
   ]
  },
  {
   "cell_type": "code",
   "execution_count": null,
   "metadata": {},
   "outputs": [],
   "source": [
    "###Interfaces are usually called as abstract base class"
   ]
  },
  {
   "cell_type": "markdown",
   "metadata": {},
   "source": [
    "Abstract base class are used to define common methods for a group of related objects. They can enforce that derived classes implement particular methods, promoting consistency across different implementations."
   ]
  },
  {
   "cell_type": "code",
   "execution_count": null,
   "metadata": {},
   "outputs": [],
   "source": []
  }
 ],
 "metadata": {
  "kernelspec": {
   "display_name": "Python 3",
   "language": "python",
   "name": "python3"
  },
  "language_info": {
   "codemirror_mode": {
    "name": "ipython",
    "version": 3
   },
   "file_extension": ".py",
   "mimetype": "text/x-python",
   "name": "python",
   "nbconvert_exporter": "python",
   "pygments_lexer": "ipython3",
   "version": "3.12.0"
  }
 },
 "nbformat": 4,
 "nbformat_minor": 2
}

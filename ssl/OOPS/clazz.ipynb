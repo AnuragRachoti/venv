{
 "cells": [
  {
   "cell_type": "code",
   "execution_count": 22,
   "metadata": {},
   "outputs": [
    {
     "name": "stdout",
     "output_type": "stream",
     "text": [
      "<__main__.Dog object at 0x1112a8e30>\n"
     ]
    }
   ],
   "source": [
    "##instance variable\n",
    "class Dog:\n",
    "    #constructor\n",
    "    def __init__(self,name,color,age):\n",
    "        self.name = name\n",
    "        self.color = color\n",
    "        self.age = age\n",
    "\n",
    "    \n",
    "dog1 = Dog(\"tony\",\"black\",7)\n",
    "print(dog1)\n"
   ]
  },
  {
   "cell_type": "code",
   "execution_count": 23,
   "metadata": {},
   "outputs": [
    {
     "name": "stdout",
     "output_type": "stream",
     "text": [
      "rotweiler says woof\n",
      "Labradoaur says woof\n"
     ]
    }
   ],
   "source": [
    "#instance method.\n",
    "\n",
    "class Dog():\n",
    "    def __init__(self,name,age):\n",
    "        self.name = name\n",
    "        self.age = age\n",
    "\n",
    "    def barking(self):\n",
    "        print(f'{self.name} says woof')\n",
    "\n",
    "\n",
    "dog1 = Dog('rotweiler',3)\n",
    "dog1.barking()\n",
    "\n",
    "dog2 = Dog('Labradoaur', 2)\n",
    "dog2.barking()\n"
   ]
  },
  {
   "cell_type": "code",
   "execution_count": 26,
   "metadata": {},
   "outputs": [
    {
     "name": "stdout",
     "output_type": "stream",
     "text": [
      "Anurag\n"
     ]
    }
   ],
   "source": [
    "##modeling a bank account\n",
    "###defining a class Bank\n",
    "\n",
    "class Bank():\n",
    "    def __init__(self,account_number,account_name,email_id,phone_number,age,dob):\n",
    "        self.account_number =account_number\n",
    "        self.account_name = account_name\n",
    "        self.email_id = email_id\n",
    "        self.phone_number = phone_number\n",
    "        self.age =age\n",
    "        self.dob = dob\n",
    "\n",
    "account1 =  Bank(121,'Anurag','anuragrachoti@gmail.com','7416849225',26,'27/12/1997')\n",
    "print(account1.account_name)\n",
    "    \n",
    "        "
   ]
  },
  {
   "cell_type": "code",
   "execution_count": null,
   "metadata": {},
   "outputs": [],
   "source": [
    "###another bank modelling \n",
    "\n",
    "class Bankaccount():\n",
    "    def __init__(self, owner, balance):\n",
    "        self.owner = owner\n",
    "        self.balance = balance\n",
    "\n",
    "    def deposit(self, amount):\n",
    "        self.balance+= amount\n",
    "        print(f'{amount} has been deposited, New balance is {self.balance}')\n",
    "\n",
    "    def withdraw(self, amount):\n",
    "        if self.balance > amount :\n",
    "            self.balance-= amount\n",
    "            print(f'{amount} has been withdrawn, New balance is {self.balance}')\n",
    "        else:\n",
    "            print(f'{amount} withdrawl not successful due to insufficient balance {self.balance}')\n",
    "        \n",
    "\n",
    "    \n",
    "    def getBalance(self):\n",
    "        return self.balance\n",
    "    \n",
    "\n",
    "##creating a object\n",
    "\n",
    "account = Bankaccount('Anurag',27000)\n",
    "\n",
    "account.deposit(10000)\n",
    "account.withdraw(5000)\n",
    "\n",
    "\n",
    "        "
   ]
  },
  {
   "cell_type": "code",
   "execution_count": null,
   "metadata": {},
   "outputs": [],
   "source": []
  }
 ],
 "metadata": {
  "kernelspec": {
   "display_name": "Python 3",
   "language": "python",
   "name": "python3"
  },
  "language_info": {
   "codemirror_mode": {
    "name": "ipython",
    "version": 3
   },
   "file_extension": ".py",
   "mimetype": "text/x-python",
   "name": "python",
   "nbconvert_exporter": "python",
   "pygments_lexer": "ipython3",
   "version": "3.12.0"
  }
 },
 "nbformat": 4,
 "nbformat_minor": 2
}

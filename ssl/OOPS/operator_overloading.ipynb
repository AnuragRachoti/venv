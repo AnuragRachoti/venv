{
 "cells": [
  {
   "cell_type": "code",
   "execution_count": 1,
   "metadata": {},
   "outputs": [
    {
     "name": "stdout",
     "output_type": "stream",
     "text": [
      "Vector(6, 8)\n",
      "Vector(-2, -2)\n",
      "Vector(8, 15)\n",
      "False\n",
      "Vector(2, 3) Vector(4, 5)\n"
     ]
    }
   ],
   "source": [
    "class Vector():\n",
    "    def __init__(self, x,y):\n",
    "        self.x = x\n",
    "        self.y = y\n",
    "\n",
    "    def __add__(self,other):\n",
    "        return Vector(self.x + other.x, self.y + other.y)\n",
    "    \n",
    "    def __sub__(self,other):\n",
    "        return Vector(self.x - other.x, self.y - other.y)\n",
    "    \n",
    "    def __mul__(self,other):\n",
    "        return Vector(self.x * other.x, self.y * other.y)\n",
    "    \n",
    "\n",
    "    def __eq__(self,other):\n",
    "        return self.x == other.x and self.y == other.y\n",
    "    \n",
    "    def __repr__(self):\n",
    "        return f'Vector({self.x}, {self.y})'\n",
    "    \n",
    "\n",
    "##create objects of the vector class\n",
    "\n",
    "v1 = Vector(2,3)\n",
    "v2 = Vector(4,5)\n",
    "\n",
    "print(v1+v2)\n",
    "print(v1-v2)\n",
    "print(v1*v2)\n",
    "print(v1==v2)\n",
    "print(v1,v2)\n",
    "\n",
    "\n",
    "    \n"
   ]
  },
  {
   "cell_type": "code",
   "execution_count": 5,
   "metadata": {},
   "outputs": [
    {
     "name": "stdout",
     "output_type": "stream",
     "text": [
      "ComplexNumber(3, 7i)\n",
      "ComplexNumber(1, -1i)\n",
      "ComplexNumber(2, 12i)\n",
      "False\n",
      "ComplexNumber(2, 3i) ComplexNumber(1, 4i)\n"
     ]
    }
   ],
   "source": [
    "###overloading for complex number\n",
    "\n",
    "class Complexnumber():\n",
    "    def __init__(self, real, imaginary):\n",
    "        self.real = real\n",
    "        self.imaginary = imaginary\n",
    "\n",
    "    def __add__(self, other):\n",
    "        return Complexnumber(self.real+other.real, self.imaginary+other.imaginary)\n",
    "    \n",
    "    def __sub__(self, other):\n",
    "        return Complexnumber(self.real-other.real, self.imaginary-other.imaginary)\n",
    "\n",
    "    def __mul__(self,other):\n",
    "        return Complexnumber(self.real * other.real, self.imaginary * other.imaginary)\n",
    "    \n",
    "    # def __div__(self, other):\n",
    "    #     return Complexnumber(self.real / other.real, self.imaginary / other.imaginary)\n",
    "    \n",
    "\n",
    "    def __eq__(self,other):\n",
    "        return self.real == other.real and self.imaginary == other.imaginary\n",
    "    \n",
    "    def __repr__(self):\n",
    "        return f'ComplexNumber({self.real}, {self.imaginary}i)'\n",
    "    \n",
    "\n",
    "c1 = Complexnumber(2,3)\n",
    "c2 = Complexnumber(1,4)\n",
    "\n",
    "print(c1+c2)\n",
    "print(c1-c2)\n",
    "print(c1*c2)\n",
    "print(c1 == c2)\n",
    "print(c1,c2)"
   ]
  },
  {
   "cell_type": "code",
   "execution_count": null,
   "metadata": {},
   "outputs": [],
   "source": []
  }
 ],
 "metadata": {
  "kernelspec": {
   "display_name": "Python 3",
   "language": "python",
   "name": "python3"
  },
  "language_info": {
   "codemirror_mode": {
    "name": "ipython",
    "version": 3
   },
   "file_extension": ".py",
   "mimetype": "text/x-python",
   "name": "python",
   "nbconvert_exporter": "python",
   "pygments_lexer": "ipython3",
   "version": "3.12.0"
  }
 },
 "nbformat": 4,
 "nbformat_minor": 2
}

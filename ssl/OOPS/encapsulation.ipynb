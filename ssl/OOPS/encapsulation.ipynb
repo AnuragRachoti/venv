{
 "cells": [
  {
   "cell_type": "code",
   "execution_count": 3,
   "metadata": {},
   "outputs": [
    {
     "name": "stdout",
     "output_type": "stream",
     "text": [
      "Krish\n"
     ]
    }
   ],
   "source": [
    "##Encapsulation with getter and setter\n",
    "## public, protected and private variable\n",
    "\n",
    "class Person:\n",
    "    def __init__(self, name, age):\n",
    "        self.name = name ##public variables\n",
    "        self.age = age ##public variables\n",
    "\n",
    "def get_name(person):\n",
    "    return person.name\n",
    "\n",
    "person = Person('Krish', 34)\n",
    "print(person.name)"
   ]
  },
  {
   "cell_type": "code",
   "execution_count": 13,
   "metadata": {},
   "outputs": [
    {
     "name": "stdout",
     "output_type": "stream",
     "text": [
      "Krish\n"
     ]
    }
   ],
   "source": [
    "##Encapsulation with getter and setter\n",
    "## public, protected and private variable\n",
    "\n",
    "class Person:\n",
    "    def __init__(self, name, age, gender):\n",
    "        self.__name = name ##private variables\n",
    "        self.__age = age ##private variables\n",
    "        self.__gender = gender\n",
    "\n",
    "def get_name(Person):\n",
    "        return person.__name\n",
    "\n",
    "def get_age(Person):\n",
    "        return person.__age\n",
    "\n",
    "def get_gender(Person):\n",
    "        return person.__gender\n",
    "\n",
    "person = Person('Krish',34,'male')\n",
    "print(get_name(person))"
   ]
  },
  {
   "cell_type": "code",
   "execution_count": null,
   "metadata": {},
   "outputs": [],
   "source": []
  },
  {
   "cell_type": "code",
   "execution_count": 15,
   "metadata": {},
   "outputs": [
    {
     "name": "stdout",
     "output_type": "stream",
     "text": [
      "Krish\n",
      "34\n",
      "Anurag\n",
      "27\n"
     ]
    }
   ],
   "source": [
    "#encapsulation with getter \n",
    "# and setter\n",
    "\n",
    "class Person:\n",
    "    def __init__(self,name,age):\n",
    "        self.__name = name\n",
    "        self.__age = age\n",
    "\n",
    "    def get_name(self):\n",
    "        return self.__name\n",
    "    \n",
    "    def get_age(self):\n",
    "        return self.__age\n",
    "    \n",
    "\n",
    "    ##setter method for a name\n",
    "    def set_name(self,name):\n",
    "        self.__name = name\n",
    "\n",
    "    def set_age(self, age):\n",
    "        if age > 0:\n",
    "            self.__age = age\n",
    "        else:\n",
    "            print('age cannot be negative')\n",
    "\n",
    "person = Person('Krish', 34)\n",
    "print(person.get_name())\n",
    "print(person.get_age())\n",
    "\n",
    "person.set_name('Anurag')\n",
    "person.set_age(27)\n",
    "    \n",
    "print(person.get_name())\n",
    "print(person.get_age())\n",
    "    "
   ]
  },
  {
   "cell_type": "code",
   "execution_count": null,
   "metadata": {},
   "outputs": [],
   "source": []
  }
 ],
 "metadata": {
  "kernelspec": {
   "display_name": "Python 3",
   "language": "python",
   "name": "python3"
  },
  "language_info": {
   "codemirror_mode": {
    "name": "ipython",
    "version": 3
   },
   "file_extension": ".py",
   "mimetype": "text/x-python",
   "name": "python",
   "nbconvert_exporter": "python",
   "pygments_lexer": "ipython3",
   "version": "3.12.0"
  }
 },
 "nbformat": 4,
 "nbformat_minor": 2
}

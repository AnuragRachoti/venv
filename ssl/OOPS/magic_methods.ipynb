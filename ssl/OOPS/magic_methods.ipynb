{
 "cells": [
  {
   "cell_type": "markdown",
   "metadata": {},
   "source": [
    "Magic methods in python are also known as dunder methods, (double underscore methods).\n",
    "Magic methods are predefined methods in Python that you can override to change the behaviour of the object. Some common magic methods include \n",
    "\n",
    "'__init__' : initializes new instruction to the class\n",
    "'__str__' :Returns a string representation of an object\n",
    "'__repr__': Returns official string representation\n",
    "'__len__' : returns length of the object\n",
    "'__getitem__' : gets an item in a container\n",
    "'__setitem__' : updates the item in a container\n"
   ]
  },
  {
   "cell_type": "code",
   "execution_count": 1,
   "metadata": {},
   "outputs": [
    {
     "name": "stdout",
     "output_type": "stream",
     "text": [
      "<__main__.Person object at 0x1150273e0>\n"
     ]
    }
   ],
   "source": [
    "#basic methods\n",
    "class Person():\n",
    "    def __init__(self,name,age):\n",
    "        self.name = name\n",
    "        self.age = age\n",
    "\n",
    "\n",
    "person = Person('anurag',26)\n",
    "print(person)"
   ]
  },
  {
   "cell_type": "code",
   "execution_count": 3,
   "metadata": {},
   "outputs": [
    {
     "name": "stdout",
     "output_type": "stream",
     "text": [
      "this is anurag and 26 years old\n",
      "Person(name = anurag, age = 26)\n"
     ]
    }
   ],
   "source": [
    "#basic methods\n",
    "class Person():\n",
    "    def __init__(self,name,age):\n",
    "        self.name = name\n",
    "        self.age = age\n",
    "\n",
    "    ##__str__ is responsible for displaying the information of the object.\n",
    "    def __str__(self):\n",
    "        return f'this is {self.name} and {self.age} years old'\n",
    "    \n",
    "\n",
    "    def __repr__(self):\n",
    "        return f'Person(name = {self.name}, age = {self.age})'\n",
    "\n",
    "person = Person('anurag',26)\n",
    "print(person)\n",
    "print(repr(person))"
   ]
  },
  {
   "cell_type": "code",
   "execution_count": null,
   "metadata": {},
   "outputs": [],
   "source": []
  }
 ],
 "metadata": {
  "kernelspec": {
   "display_name": "Python 3",
   "language": "python",
   "name": "python3"
  },
  "language_info": {
   "codemirror_mode": {
    "name": "ipython",
    "version": 3
   },
   "file_extension": ".py",
   "mimetype": "text/x-python",
   "name": "python",
   "nbconvert_exporter": "python",
   "pygments_lexer": "ipython3",
   "version": "3.12.0"
  }
 },
 "nbformat": 4,
 "nbformat_minor": 2
}

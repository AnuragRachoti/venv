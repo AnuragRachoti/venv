{
 "cells": [
  {
   "cell_type": "code",
   "execution_count": 9,
   "metadata": {},
   "outputs": [
    {
     "name": "stdout",
     "output_type": "stream",
     "text": [
      "55\n"
     ]
    }
   ],
   "source": [
    "def febennoci_num(n,memo = {}):\n",
    "    if n in memo:\n",
    "        return memo[n]\n",
    "    if n<=1:\n",
    "        return n\n",
    "    \n",
    "    memo[n] = febennoci_num(n-1, memo) + febennoci_num(n-2, memo)\n",
    "    return memo[n]\n",
    "\n",
    "\n",
    "print(febennoci_num(10))"
   ]
  },
  {
   "cell_type": "code",
   "execution_count": 11,
   "metadata": {},
   "outputs": [
    {
     "name": "stdout",
     "output_type": "stream",
     "text": [
      "{1: 1, 3: 9}\n"
     ]
    }
   ],
   "source": [
    "def function(a,b=None):\n",
    "    if b is None:\n",
    "        b = {}\n",
    "    b[a] = a**2\n",
    "    return b\n",
    "\n",
    "\n",
    "print(function(3,{1:1}))"
   ]
  },
  {
   "cell_type": "code",
   "execution_count": 4,
   "metadata": {},
   "outputs": [
    {
     "name": "stdout",
     "output_type": "stream",
     "text": [
      "{'a': 12, 'd': 31, 'e': 33}\n"
     ]
    }
   ],
   "source": [
    "##\n",
    "def integer_filter(**kwargs):\n",
    "    return {k : v for k,v in kwargs.items() if isinstance(v, int)} \n",
    "\n",
    "\n",
    "##test\n",
    "print(integer_filter(a=12,b='anurag',c=3.3, d=31, e=33))\n"
   ]
  },
  {
   "cell_type": "code",
   "execution_count": 5,
   "metadata": {},
   "outputs": [
    {
     "name": "stdout",
     "output_type": "stream",
     "text": [
      "[2, 4, 6, 8, 10]\n",
      "[3, 4, 5, 6, 7]\n"
     ]
    }
   ],
   "source": [
    "##over here we are giving a function as an input to another\n",
    "##function.\n",
    "\n",
    "def applying_callback(callback, lst):\n",
    "    return [callback(x) for x in lst]\n",
    "\n",
    "\n",
    "##\n",
    "print(applying_callback(lambda x:x*2 , [1,2,3,4,5]))\n",
    "print(applying_callback(lambda x:x+2, [1,2,3,4,5]))"
   ]
  },
  {
   "cell_type": "code",
   "execution_count": 3,
   "metadata": {},
   "outputs": [
    {
     "name": "stdout",
     "output_type": "stream",
     "text": [
      "16\n"
     ]
    }
   ],
   "source": [
    "def function_over_function():\n",
    "\n",
    "    def sqre(integer):\n",
    "        return integer**2\n",
    "\n",
    "    return sqre\n",
    "\n",
    "\n",
    "square = function_over_function()\n",
    "print(square(4))\n"
   ]
  },
  {
   "cell_type": "code",
   "execution_count": 8,
   "metadata": {},
   "outputs": [
    {
     "name": "stdout",
     "output_type": "stream",
     "text": [
      "Function unique_function took 0.002827167510986328\n",
      "333283335000\n"
     ]
    }
   ],
   "source": [
    "import time\n",
    "\n",
    "def timedecorator(function):\n",
    "    def wrapper(*args, **kwargs):\n",
    "        start_time = time.time()\n",
    "        result = function(*args, **kwargs)\n",
    "        end_time = time.time()\n",
    "\n",
    "        print(f'Function {function.__name__} took {end_time - start_time}')\n",
    "        return result\n",
    "    return wrapper\n",
    "\n",
    "\n",
    "@timedecorator\n",
    "def unique_function(n):\n",
    "    return sum(x**2 for x in range(n))\n",
    "\n",
    "\n",
    "print(unique_function(10000))"
   ]
  },
  {
   "cell_type": "code",
   "execution_count": 12,
   "metadata": {},
   "outputs": [
    {
     "name": "stdout",
     "output_type": "stream",
     "text": [
      "[4, 16, 36, 64, 100]\n"
     ]
    }
   ],
   "source": [
    "def filter_map(filter_func,map_func, lst):\n",
    "    return [map_func(x) for x in lst if  filter_func(x)]\n",
    "\n",
    "print(filter_map(lambda x:x%2 == 0, lambda x:x**2, [1,2,3,4,5,6,7,8,9,10]))"
   ]
  },
  {
   "cell_type": "code",
   "execution_count": 14,
   "metadata": {},
   "outputs": [
    {
     "name": "stdout",
     "output_type": "stream",
     "text": [
      "378.0\n"
     ]
    }
   ],
   "source": [
    "def mixed(f,g):\n",
    "    return lambda x:f(g(x))\n",
    "\n",
    "\n",
    "f = lambda x:x*(x+1)/2\n",
    "g = lambda x:x ** 3\n",
    "h = mixed(f,g)\n",
    "\n",
    "print(h(3))"
   ]
  },
  {
   "cell_type": "code",
   "execution_count": 16,
   "metadata": {},
   "outputs": [
    {
     "name": "stdout",
     "output_type": "stream",
     "text": [
      "4\n"
     ]
    }
   ],
   "source": [
    "from functools import partial\n",
    "\n",
    "mul_by_2 = partial(lambda x,y:x*y,2)\n",
    "\n",
    "print(mul_by_2(2))"
   ]
  },
  {
   "cell_type": "code",
   "execution_count": 17,
   "metadata": {},
   "outputs": [
    {
     "name": "stdout",
     "output_type": "stream",
     "text": [
      "5.5\n"
     ]
    }
   ],
   "source": [
    "def average(list):\n",
    "    try:\n",
    "        return sum(list)/len(list)\n",
    "    except ZeroDivisionError:\n",
    "        return None\n",
    "    \n",
    "\n",
    "print(average([1,2,3,4,5,6,7,8,9,10]))"
   ]
  },
  {
   "cell_type": "code",
   "execution_count": 18,
   "metadata": {},
   "outputs": [
    {
     "name": "stdout",
     "output_type": "stream",
     "text": [
      "0\n",
      "1\n",
      "1\n",
      "2\n",
      "3\n",
      "5\n"
     ]
    }
   ],
   "source": [
    "def fibonacci_generator():\n",
    "    a,b = 0,1\n",
    "    while True:\n",
    "        yield a\n",
    "        a,b = b,a+b\n",
    "\n",
    "#test\n",
    "fib_gen = fibonacci_generator()\n",
    "\n",
    "for _ in range(6):\n",
    "    print(next(fib_gen))"
   ]
  },
  {
   "cell_type": "code",
   "execution_count": 20,
   "metadata": {},
   "outputs": [
    {
     "name": "stdout",
     "output_type": "stream",
     "text": [
      "24\n"
     ]
    }
   ],
   "source": [
    "def curry_function(x):\n",
    "    def inner1(y):\n",
    "        def inner2(z):\n",
    "            return x*y*z\n",
    "        return inner2\n",
    "    return inner1\n",
    "\n",
    "print(curry_function(2)(3)(4))"
   ]
  },
  {
   "cell_type": "code",
   "execution_count": 24,
   "metadata": {},
   "outputs": [],
   "source": [
    "def write_file(lst, file):\n",
    "    try:\n",
    "        with open(file, 'w') as f:\n",
    "            for num in lst:\n",
    "                f.write(f'{num}\\n')\n",
    "    except IOError as e:\n",
    "        print(f'an error occured:{e}')\n",
    "\n",
    "\n",
    "write_file('anurag','output.txt')"
   ]
  },
  {
   "cell_type": "code",
   "execution_count": 26,
   "metadata": {},
   "outputs": [
    {
     "name": "stdout",
     "output_type": "stream",
     "text": [
      "([1, 2, 3, 2, 3], ['anurag', 'rachoti', 'germany'], [4.5, 6.5, 6.78])\n"
     ]
    }
   ],
   "source": [
    "def compound_list(lst):\n",
    "    ints,strs,floats = [],[],[]\n",
    "\n",
    "    for value in lst:\n",
    "        if isinstance(value, int):\n",
    "            ints.append(value)\n",
    "        elif isinstance(value, str):\n",
    "            strs.append(value)\n",
    "        elif isinstance(value, float):\n",
    "            floats.append(value)\n",
    "\n",
    "    return ints,strs,floats\n",
    "\n",
    "\n",
    "##tests\n",
    "\n",
    "print(compound_list([1,2,3,4.5,6.5,'anurag','rachoti',2,3,'germany',6.78]))"
   ]
  },
  {
   "cell_type": "code",
   "execution_count": 28,
   "metadata": {},
   "outputs": [
    {
     "name": "stdout",
     "output_type": "stream",
     "text": [
      "1\n",
      "2\n",
      "3\n",
      "4\n",
      "5\n",
      "6\n"
     ]
    }
   ],
   "source": [
    "def call_counter(counter={'count' :0}):\n",
    "    counter['count']+=1\n",
    "    return counter['count']\n",
    "\n",
    "\n",
    "\n",
    "print(call_counter())\n",
    "print(call_counter())\n",
    "print(call_counter())\n",
    "print(call_counter())\n",
    "print(call_counter())\n",
    "print(call_counter())"
   ]
  },
  {
   "cell_type": "code",
   "execution_count": null,
   "metadata": {},
   "outputs": [],
   "source": []
  }
 ],
 "metadata": {
  "kernelspec": {
   "display_name": "Python 3",
   "language": "python",
   "name": "python3"
  },
  "language_info": {
   "codemirror_mode": {
    "name": "ipython",
    "version": 3
   },
   "file_extension": ".py",
   "mimetype": "text/x-python",
   "name": "python",
   "nbconvert_exporter": "python",
   "pygments_lexer": "ipython3",
   "version": "3.12.0"
  }
 },
 "nbformat": 4,
 "nbformat_minor": 2
}

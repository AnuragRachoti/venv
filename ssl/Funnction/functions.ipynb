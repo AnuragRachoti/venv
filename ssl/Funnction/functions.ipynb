{
 "cells": [
  {
   "cell_type": "code",
   "execution_count": 2,
   "metadata": {},
   "outputs": [
    {
     "name": "stdout",
     "output_type": "stream",
     "text": [
      "even\n"
     ]
    }
   ],
   "source": [
    "#functions \n",
    "\n",
    "def even_funtion(num):\n",
    "    if num%2 == 0:\n",
    "        print('even')\n",
    "    else:\n",
    "        print('odd')\n",
    "\n",
    "even_funtion(24)"
   ]
  },
  {
   "cell_type": "code",
   "execution_count": 4,
   "metadata": {},
   "outputs": [
    {
     "name": "stdout",
     "output_type": "stream",
     "text": [
      "5\n"
     ]
    }
   ],
   "source": [
    "def add(a,b):\n",
    "   return a+b\n",
    "\n",
    "print(add(2,3))"
   ]
  },
  {
   "cell_type": "code",
   "execution_count": 5,
   "metadata": {},
   "outputs": [
    {
     "name": "stdout",
     "output_type": "stream",
     "text": [
      "hello anurag hope you have a nice day!!\n"
     ]
    }
   ],
   "source": [
    "#default parameters\n",
    "\n",
    "def greetings(name):\n",
    "    print(f\"hello {name} hope you have a nice day!!\")\n",
    "\n",
    "greetings('anurag')"
   ]
  },
  {
   "cell_type": "code",
   "execution_count": 6,
   "metadata": {},
   "outputs": [
    {
     "name": "stdout",
     "output_type": "stream",
     "text": [
      "1\n",
      "2\n",
      "3\n",
      "4\n",
      "5\n",
      "6\n",
      "7\n",
      "8\n",
      "name:krish\n",
      "age:32\n",
      "salary:3423\n"
     ]
    }
   ],
   "source": [
    "### Variable length arguments\n",
    "##positional arguments \n",
    "\n",
    "def details(*args,**kwargs):\n",
    "    for value1 in args:\n",
    "        print(value1)\n",
    "\n",
    "    for key,value in kwargs.items():\n",
    "        print(f\"{key}:{value}\")\n",
    "\n",
    "\n",
    "details(1,2,3,4,5,6,7,8,name='krish',age=32,salary =3423)\n",
    "    "
   ]
  },
  {
   "cell_type": "code",
   "execution_count": 13,
   "metadata": {},
   "outputs": [
    {
     "name": "stdout",
     "output_type": "stream",
     "text": [
      "77.0\n",
      "25.0\n"
     ]
    }
   ],
   "source": [
    "###more coding options \n",
    "def temperature_converter(temperature, unit):\n",
    "   if unit == 'C':\n",
    "      f = (temperature*9/5)+32\n",
    "      return (f'{f}')\n",
    "   elif unit == 'F':\n",
    "      c = (temperature-32)*5/9\n",
    "      return (f'{c}')\n",
    "      \n",
    "   \n",
    "\n",
    "print(temperature_converter(25,'C'))\n",
    "print(temperature_converter(77,'F'))\n",
    "\n"
   ]
  },
  {
   "cell_type": "code",
   "execution_count": 15,
   "metadata": {},
   "outputs": [
    {
     "name": "stdout",
     "output_type": "stream",
     "text": [
      "True\n"
     ]
    }
   ],
   "source": [
    "####password checker \n",
    "def password_checker(password):\n",
    "    if len(password) < 8:\n",
    "        return False\n",
    "    \n",
    "    if not any(char.isdigit() for char in password):\n",
    "        return False\n",
    "    \n",
    "    if not any(char.islower() for char in password):\n",
    "        return False\n",
    "    \n",
    "    if not any(char.isupper() for char in password):\n",
    "        return False\n",
    "\n",
    "    if not any(char in '!@#$%^&*()_+=' for char in password):\n",
    "        return False\n",
    "    \n",
    "    return True\n",
    "\n",
    "print(password_checker('Anurag#27'))\n",
    "    \n"
   ]
  },
  {
   "cell_type": "code",
   "execution_count": 24,
   "metadata": {},
   "outputs": [
    {
     "name": "stdout",
     "output_type": "stream",
     "text": [
      "1200\n",
      "None\n"
     ]
    }
   ],
   "source": [
    "### calculating the total cost of shopping mart\n",
    "\n",
    "def total_cost(cart):\n",
    "    total_cost = 0\n",
    "    for item in cart:\n",
    "        total_cost+=item['price'] * item['quantity']\n",
    "        \n",
    "    print(total_cost)\n",
    "\n",
    "cart = [\n",
    "    {'name':'Apple','price':100,'quantity':3},\n",
    "    {'name':'orange','price':200,'quantity' : 2},\n",
    "    {'name':'lemons','price':100,'quantity':5}\n",
    "]\n",
    "\n",
    "print(total_cost(cart))"
   ]
  },
  {
   "cell_type": "code",
   "execution_count": 54,
   "metadata": {},
   "outputs": [
    {
     "name": "stdout",
     "output_type": "stream",
     "text": [
      "a man a plan a canal Panama is palindrome\n"
     ]
    }
   ],
   "source": [
    "##checking if string is a palindrome or not\n",
    "\n",
    "def is_palindrome(string):\n",
    "\n",
    "    str1 = string.lower().replace(' ','')\n",
    "    str2 = str1[::-1]\n",
    "\n",
    "    if str1 == str2:\n",
    "        print(f'{string} is palindrome')\n",
    "    else:\n",
    "        print(f'{string} is not a palindrome')\n",
    "\n",
    "\n",
    "is_palindrome('a man a plan a canal Panama')"
   ]
  },
  {
   "cell_type": "code",
   "execution_count": 52,
   "metadata": {},
   "outputs": [
    {
     "name": "stdout",
     "output_type": "stream",
     "text": [
      "5\n"
     ]
    }
   ],
   "source": [
    "arr = [2, 3, 6, 6, 5]\n",
    "\n",
    "arr1 = sorted(arr, reverse=True)\n",
    "\n",
    "for i in arr1:\n",
    "    if i < arr1[0]:\n",
    "        print(i)\n",
    "        break\n",
    "\n",
    "\n"
   ]
  },
  {
   "cell_type": "code",
   "execution_count": 55,
   "metadata": {},
   "outputs": [
    {
     "name": "stdout",
     "output_type": "stream",
     "text": [
      "120\n"
     ]
    }
   ],
   "source": [
    "##calculating the factorial number using recursion\n",
    "\n",
    "def factorial(n):\n",
    "    if n == 0:\n",
    "        return 1\n",
    "    else:\n",
    "        return n * factorial(n-1)\n",
    "    \n",
    "print(factorial(5))"
   ]
  },
  {
   "cell_type": "code",
   "execution_count": 57,
   "metadata": {},
   "outputs": [
    {
     "name": "stdout",
     "output_type": "stream",
     "text": [
      "{'This': 2, 'Data': 2, 'Science': 2, 'Tutorial': 1, 'with': 4, 'Python': 2, 'tutorial': 2, 'will': 2, 'help': 3, 'you': 1, 'learn': 1, 'the': 4, 'basics': 2, 'of': 3, 'along': 1, 'according': 1, 'to': 1, 'need': 1, 'in': 1, '2024': 1, 'such': 1, 'as': 1, 'data': 3, 'preprocessing,': 1, 'visualization,': 1, 'statistics,': 1, 'making': 1, 'machine': 1, 'learning': 1, 'models,': 1, 'and': 3, 'much': 1, 'more': 1, 'detailed': 1, 'well-explained': 1, 'examples.': 1, 'beginners': 1, 'trained': 1, 'professionals': 1, 'master': 1, 'science': 1, 'Python.': 1}\n"
     ]
    }
   ],
   "source": [
    "###a Function to Read a File and count the frequency of a word.\n",
    "\n",
    "def word_frequency_count(file):\n",
    "    word_cnt = {}\n",
    "    with open(file, 'r') as file:\n",
    "        for lines in file:\n",
    "            words = lines.split()\n",
    "            for word in words:\n",
    "                word_cnt[word] = word_cnt.get(word, 0)+1\n",
    "    return word_cnt\n",
    "\n",
    "\n",
    "word_frequency = word_frequency_count('sample.txt')\n",
    "print(word_frequency)"
   ]
  },
  {
   "cell_type": "code",
   "execution_count": 60,
   "metadata": {},
   "outputs": [
    {
     "name": "stdout",
     "output_type": "stream",
     "text": [
      "True\n",
      "False\n"
     ]
    }
   ],
   "source": [
    "import re\n",
    "def validate_email(email):\n",
    "    pattern = r'^[a-zA-Z0-9_.+-]+@[a-zA-Z0-9-]+\\.[a-zA-Z0-9-.]+$'\n",
    "    return re.match(pattern,email) is not None\n",
    "\n",
    "print(validate_email('anuragrachoti@gmail.com'))\n",
    "print(validate_email('asjdhiasd.com'))"
   ]
  },
  {
   "cell_type": "code",
   "execution_count": 62,
   "metadata": {},
   "outputs": [
    {
     "name": "stdout",
     "output_type": "stream",
     "text": [
      "2\n"
     ]
    }
   ],
   "source": [
    "###Lamda functions \n",
    "\n",
    "total = lambda a,b:a+b\n",
    "\n",
    "print(total(1,1))\n"
   ]
  },
  {
   "cell_type": "code",
   "execution_count": 6,
   "metadata": {},
   "outputs": [],
   "source": [
    "##square of numbers \n",
    "\n",
    "def square(x):\n",
    "    return x*x"
   ]
  },
  {
   "cell_type": "code",
   "execution_count": 3,
   "metadata": {},
   "outputs": [
    {
     "name": "stdout",
     "output_type": "stream",
     "text": [
      "[2, 4, 6, 8, 10, 12]\n"
     ]
    }
   ],
   "source": [
    "def sum(a,b):\n",
    "    return a+b\n",
    "\n",
    "numbers = [1,2,3,4,5,6]\n",
    "numbers2 = [1,2,3,4,5,6]\n",
    "\n",
    "total_numbers = list(map(sum, numbers, numbers2))\n",
    "print(total_numbers)"
   ]
  },
  {
   "cell_type": "code",
   "execution_count": 7,
   "metadata": {},
   "outputs": [
    {
     "name": "stdout",
     "output_type": "stream",
     "text": [
      "[1, 4, 9, 16, 25, 36]\n"
     ]
    }
   ],
   "source": [
    "square_list = list(map(square, numbers))\n",
    "print(square_list)"
   ]
  },
  {
   "cell_type": "code",
   "execution_count": 9,
   "metadata": {},
   "outputs": [
    {
     "name": "stdout",
     "output_type": "stream",
     "text": [
      "[2, 4, 6, 8, 10, 12]\n"
     ]
    }
   ],
   "source": [
    "total_numbers = list(map(lambda a,b:a+b, numbers, numbers2))\n",
    "print(total_numbers)"
   ]
  },
  {
   "cell_type": "code",
   "execution_count": 10,
   "metadata": {},
   "outputs": [
    {
     "name": "stdout",
     "output_type": "stream",
     "text": [
      "[1, 2, 3]\n"
     ]
    }
   ],
   "source": [
    "##map() converting a list of strings into integers\n",
    "\n",
    "s = ['1','2','3']\n",
    "\n",
    "int_numbers = list(map(int, s))\n",
    "print(int_numbers)"
   ]
  },
  {
   "cell_type": "code",
   "execution_count": 11,
   "metadata": {},
   "outputs": [
    {
     "name": "stdout",
     "output_type": "stream",
     "text": [
      "['ANURAG', 'RACHOTI', 'GOUD']\n"
     ]
    }
   ],
   "source": [
    "##converting the lower into upper \n",
    "\n",
    "s1 = ['anurag','rachoti','goud']\n",
    "\n",
    "list_upper = list(map(str.upper, s1))\n",
    "print(list_upper)"
   ]
  },
  {
   "cell_type": "code",
   "execution_count": 16,
   "metadata": {},
   "outputs": [
    {
     "name": "stdout",
     "output_type": "stream",
     "text": [
      "['anurag', 'vijay', 'karthik']\n",
      "[27, 26, 22]\n"
     ]
    }
   ],
   "source": [
    "def get_name(person):\n",
    "    return person['name']\n",
    "\n",
    "def get_age(person):\n",
    "    return person['age']\n",
    "\n",
    "\n",
    "person = [\n",
    "\n",
    "    {'name':'anurag', 'age':27},\n",
    "    {'name':'vijay','age':26},\n",
    "    {'name':'karthik','age':22}\n",
    "\n",
    "    ]\n",
    "\n",
    "person_name = list(map(get_name,person))\n",
    "age = list(map(get_age,person))\n",
    "print(person_name)\n",
    "print(age)"
   ]
  },
  {
   "cell_type": "code",
   "execution_count": 17,
   "metadata": {},
   "outputs": [],
   "source": [
    "##filter function \n",
    "\n",
    "def even(number):\n",
    "    if number%2 == 0:\n",
    "        return True"
   ]
  },
  {
   "cell_type": "code",
   "execution_count": 18,
   "metadata": {},
   "outputs": [
    {
     "name": "stdout",
     "output_type": "stream",
     "text": [
      "[2, 4, 6, 8, 10]\n"
     ]
    }
   ],
   "source": [
    "li = [1,2,3,4,5,6,7,8,9,10]\n",
    "\n",
    "print(list(filter(even, li)))"
   ]
  },
  {
   "cell_type": "code",
   "execution_count": 19,
   "metadata": {},
   "outputs": [
    {
     "name": "stdout",
     "output_type": "stream",
     "text": [
      "[6, 7, 8, 9, 10]\n"
     ]
    }
   ],
   "source": [
    "###filter with lambda function, print the numbers in li which\n",
    "## are than 5\n",
    "\n",
    "print(list(filter(lambda number:number > 5, li)))\n"
   ]
  },
  {
   "cell_type": "code",
   "execution_count": 25,
   "metadata": {},
   "outputs": [
    {
     "name": "stdout",
     "output_type": "stream",
     "text": [
      "[6, 8, 10]\n"
     ]
    }
   ],
   "source": [
    "###Filter with a lambda and multiple conditions\n",
    "\n",
    "numbers = [1,2,3,4,5,6,7,8,9,10]\n",
    "combined_condition = list(filter(lambda number:number > 5 and number%2==0 ,li))\n",
    "print(combined_condition)"
   ]
  },
  {
   "cell_type": "code",
   "execution_count": 26,
   "metadata": {},
   "outputs": [],
   "source": [
    "### filter() to check the age is greater than 25 in dictionary\n",
    "person = [\n",
    "\n",
    "    {'name':'anurag', 'age':27},\n",
    "    {'name':'vijay','age':26},\n",
    "    {'name':'karthik','age':22}\n",
    "\n",
    "    ]\n",
    "\n",
    "def age_adulocense(person):\n",
    "    return person['age'] > 25\n",
    "\n",
    "age_greaterthan25 = list(filter(age_adulocense, person))"
   ]
  },
  {
   "cell_type": "code",
   "execution_count": null,
   "metadata": {},
   "outputs": [],
   "source": []
  }
 ],
 "metadata": {
  "kernelspec": {
   "display_name": "Python 3",
   "language": "python",
   "name": "python3"
  },
  "language_info": {
   "codemirror_mode": {
    "name": "ipython",
    "version": 3
   },
   "file_extension": ".py",
   "mimetype": "text/x-python",
   "name": "python",
   "nbconvert_exporter": "python",
   "pygments_lexer": "ipython3",
   "version": "3.12.0"
  }
 },
 "nbformat": 4,
 "nbformat_minor": 2
}

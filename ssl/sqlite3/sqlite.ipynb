{
 "cells": [
  {
   "cell_type": "code",
   "execution_count": 23,
   "metadata": {},
   "outputs": [],
   "source": [
    "import sqlite3\n"
   ]
  },
  {
   "cell_type": "code",
   "execution_count": 24,
   "metadata": {},
   "outputs": [
    {
     "data": {
      "text/plain": [
       "<sqlite3.Connection at 0x1162e0d60>"
      ]
     },
     "execution_count": 24,
     "metadata": {},
     "output_type": "execute_result"
    }
   ],
   "source": [
    "#connection\n",
    "\n",
    "connection = sqlite3.connect('mydatabase.db')\n",
    "connection"
   ]
  },
  {
   "cell_type": "code",
   "execution_count": 25,
   "metadata": {},
   "outputs": [],
   "source": [
    "cursor = connection.cursor()"
   ]
  },
  {
   "cell_type": "code",
   "execution_count": 26,
   "metadata": {},
   "outputs": [],
   "source": [
    "##creating a table.\n",
    "cursor.execute(''' \n",
    "Create Table If not Exists employees(\n",
    "             id Integer Primary Key,\n",
    "             name Text Not Null,\n",
    "               age Integer,\n",
    "               department Text Not Null\n",
    "                )\n",
    "''')\n",
    "\n",
    "\n",
    "##COMMIT the changes \n",
    "connection.commit()"
   ]
  },
  {
   "cell_type": "code",
   "execution_count": 27,
   "metadata": {},
   "outputs": [
    {
     "data": {
      "text/plain": [
       "<sqlite3.Cursor at 0x116244440>"
      ]
     },
     "execution_count": 27,
     "metadata": {},
     "output_type": "execute_result"
    }
   ],
   "source": [
    "##creating a table.\n",
    "cursor.execute(''' \n",
    "select * from employees\n",
    "''')"
   ]
  },
  {
   "cell_type": "code",
   "execution_count": 28,
   "metadata": {},
   "outputs": [],
   "source": [
    "###insert tha data in sqllite table\n",
    "cursor.execute('''\n",
    "Insert into employees(name, age, department)\n",
    "               values('Krish',32,'data scientist')\n",
    "''')\n",
    "\n",
    "\n",
    "cursor.execute('''\n",
    "Insert into employees(name, age, department)\n",
    "               values('anurag',26,'data engineer')\n",
    "''')\n",
    "\n",
    "\n",
    "cursor.execute('''\n",
    "Insert into employees(name, age, department)\n",
    "               values('vj',26,'data engineer')\n",
    "''')\n",
    "\n",
    "\n",
    "cursor.execute('''\n",
    "Insert into employees(name, age, department)\n",
    "               values('kartik',21,'data analyst')\n",
    "''')\n",
    "\n",
    "\n",
    "connection.commit()"
   ]
  },
  {
   "cell_type": "code",
   "execution_count": 29,
   "metadata": {},
   "outputs": [
    {
     "name": "stdout",
     "output_type": "stream",
     "text": [
      "(1, 'Krish', 34, 'data scientist')\n",
      "(2, 'anurag', 26, 'data engineer')\n",
      "(3, 'vj', 26, 'data engineer')\n",
      "(4, 'Krish', 32, 'data scientist')\n",
      "(5, 'anurag', 26, 'data engineer')\n",
      "(6, 'vj', 26, 'data engineer')\n",
      "(7, 'kartik', 21, 'data analyst')\n"
     ]
    }
   ],
   "source": [
    "###\n",
    "cursor.execute('Select * from employees')\n",
    "rows=cursor.fetchall()\n",
    "\n",
    "#printing the queried data\n",
    "for row in rows:\n",
    "    print(row)"
   ]
  },
  {
   "cell_type": "code",
   "execution_count": 30,
   "metadata": {},
   "outputs": [],
   "source": [
    "#update the data in the table.\n",
    "cursor.execute('''\n",
    "UPDATE employees\n",
    "set age = 34\n",
    "where name = 'Krish'\n",
    "''')\n",
    "\n",
    "connection.commit()"
   ]
  },
  {
   "cell_type": "code",
   "execution_count": 31,
   "metadata": {},
   "outputs": [
    {
     "name": "stdout",
     "output_type": "stream",
     "text": [
      "(1, 'Krish', 34, 'data scientist')\n",
      "(2, 'anurag', 26, 'data engineer')\n",
      "(3, 'vj', 26, 'data engineer')\n",
      "(4, 'Krish', 34, 'data scientist')\n",
      "(5, 'anurag', 26, 'data engineer')\n",
      "(6, 'vj', 26, 'data engineer')\n",
      "(7, 'kartik', 21, 'data analyst')\n"
     ]
    }
   ],
   "source": [
    "###\n",
    "cursor.execute('Select * from employees')\n",
    "rows=cursor.fetchall()\n",
    "\n",
    "#printing the queried data\n",
    "for row in rows:\n",
    "    print(row)"
   ]
  },
  {
   "cell_type": "code",
   "execution_count": 32,
   "metadata": {},
   "outputs": [],
   "source": [
    "##deleting the data from the table.\n",
    "\n",
    "cursor.execute('''\n",
    "Delete from employees\n",
    "where name = 'kartik'\n",
    "''')\n",
    "\n",
    "connection.commit()"
   ]
  },
  {
   "cell_type": "code",
   "execution_count": 33,
   "metadata": {},
   "outputs": [
    {
     "name": "stdout",
     "output_type": "stream",
     "text": [
      "(1, 'Krish', 34, 'data scientist')\n",
      "(2, 'anurag', 26, 'data engineer')\n",
      "(3, 'vj', 26, 'data engineer')\n",
      "(4, 'Krish', 34, 'data scientist')\n",
      "(5, 'anurag', 26, 'data engineer')\n",
      "(6, 'vj', 26, 'data engineer')\n"
     ]
    }
   ],
   "source": [
    "cursor.execute('Select * from employees')\n",
    "rows=cursor.fetchall()\n",
    "\n",
    "#printing the queried data\n",
    "for row in rows:\n",
    "    print(row)"
   ]
  },
  {
   "cell_type": "code",
   "execution_count": 46,
   "metadata": {},
   "outputs": [
    {
     "data": {
      "text/plain": [
       "<sqlite3.Cursor at 0x11622c8c0>"
      ]
     },
     "execution_count": 46,
     "metadata": {},
     "output_type": "execute_result"
    }
   ],
   "source": [
    "#### working with sales data\n",
    "\n",
    "connection = sqlite3.connect('sales_data.db')\n",
    "\n",
    "cursor = connection.cursor()\n",
    "\n",
    "##creating a table for sales data\n",
    "cursor.execute('''\n",
    "CREATE TABLE IF NOT EXISTS sales(\n",
    "               id Integer PRIMARY KEY,\n",
    "               date TEXT NOT NULL,\n",
    "               product TEXT NOT NULL,\n",
    "               sales INTEGER,\n",
    "               region TEXT)\n",
    "\n",
    "''')\n",
    "\n"
   ]
  },
  {
   "cell_type": "code",
   "execution_count": 47,
   "metadata": {},
   "outputs": [],
   "source": [
    "##INSERTING THE SALES DATA.\n",
    "sales_data = [\n",
    "    ('2023-01-01', 'Product1', 100, 'North'),\n",
    "    ('2023-01-02', 'Product2', 200, 'South'),\n",
    "    ('2023-01-03', 'Product3', 150, 'East'),\n",
    "    ('2023-01-04', 'Product4', 250, 'West'),\n",
    "     ('2023-01-05', 'Product2', 300, 'North')\n",
    "    ]\n",
    "\n",
    "\n",
    "connection.commit()\n"
   ]
  },
  {
   "cell_type": "code",
   "execution_count": 48,
   "metadata": {},
   "outputs": [],
   "source": [
    "cursor.executemany('''\n",
    "insert into sales(date,product, sales, region)\n",
    "                   values(?,?,?,?)\n",
    "\n",
    "''', sales_data)\n",
    "\n",
    "\n",
    "connection.commit()"
   ]
  },
  {
   "cell_type": "code",
   "execution_count": 50,
   "metadata": {},
   "outputs": [
    {
     "name": "stdout",
     "output_type": "stream",
     "text": [
      "(1, '2023-01-01', 'Product1', 100, 'North')\n",
      "(2, '2023-01-02', 'Product2', 200, 'South')\n",
      "(3, '2023-01-03', 'Product3', 150, 'East')\n",
      "(4, '2023-01-04', 'Product4', 250, 'West')\n",
      "(5, '2023-01-05', 'Product2', 300, 'North')\n"
     ]
    }
   ],
   "source": [
    "cursor.execute('Select * from sales')\n",
    "rows=cursor.fetchall()\n",
    "\n",
    "#printing the queried data\n",
    "for row in rows:\n",
    "    print(row)"
   ]
  },
  {
   "cell_type": "code",
   "execution_count": 51,
   "metadata": {},
   "outputs": [],
   "source": [
    "##close\n",
    "connection.close()"
   ]
  },
  {
   "cell_type": "code",
   "execution_count": null,
   "metadata": {},
   "outputs": [],
   "source": []
  }
 ],
 "metadata": {
  "kernelspec": {
   "display_name": "Python 3",
   "language": "python",
   "name": "python3"
  },
  "language_info": {
   "codemirror_mode": {
    "name": "ipython",
    "version": 3
   },
   "file_extension": ".py",
   "mimetype": "text/x-python",
   "name": "python",
   "nbconvert_exporter": "python",
   "pygments_lexer": "ipython3",
   "version": "3.12.0"
  }
 },
 "nbformat": 4,
 "nbformat_minor": 2
}

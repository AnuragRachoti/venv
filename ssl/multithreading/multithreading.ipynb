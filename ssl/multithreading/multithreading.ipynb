{
 "cells": [
  {
   "cell_type": "code",
   "execution_count": 4,
   "metadata": {},
   "outputs": [
    {
     "name": "stdout",
     "output_type": "stream",
     "text": [
      "Number: 0\n",
      "Number: 1\n",
      "Number: 2\n",
      "Number: 3\n",
      "Number: 4\n",
      "letters in a\n",
      "letters in b\n",
      "letters in c\n",
      "letters in d\n",
      "letters in e\n",
      "0.0008902549743652344\n"
     ]
    }
   ],
   "source": [
    "##when to use multithreading?\n",
    "#were ever we are waiting foR io OPERATION\n",
    "\n",
    "# we use multithreading when multiple applications work concurrently.\n",
    "\n",
    "import threading\n",
    "import time\n",
    "\n",
    "def print_numbers():\n",
    "    for i in range(5):\n",
    "        print(f'Number: {i}')\n",
    "\n",
    "\n",
    "def print_letters():\n",
    "    for letter in 'abcde':\n",
    "        print(f'letters in {letter}')\n",
    "\n",
    "t = time.time()\n",
    "print_numbers()\n",
    "print_letters()\n",
    "\n",
    "finished_time = time.time() - t\n",
    "print(finished_time)"
   ]
  },
  {
   "cell_type": "code",
   "execution_count": 9,
   "metadata": {},
   "outputs": [
    {
     "name": "stdout",
     "output_type": "stream",
     "text": [
      "letters in a\n",
      "Number: 0\n",
      "letters in b\n",
      "Number: 1\n",
      "letters in c\n",
      "Number: 2\n",
      "letters in d\n",
      "Number: 3\n",
      "letters in e\n",
      "Number: 4\n",
      "10.027219295501709\n"
     ]
    }
   ],
   "source": [
    "##when to use multithreading?\n",
    "#were ever we are waiting foR io OPERATION\n",
    "\n",
    "# we use multithreading when multiple applications work concurrently.\n",
    "\n",
    "import threading\n",
    "import time\n",
    "\n",
    "def print_numbers():\n",
    "    for i in range(5):\n",
    "        time.sleep(2)\n",
    "        print(f'Number: {i}')\n",
    "\n",
    "\n",
    "def print_letters():\n",
    "    for letter in 'abcde':\n",
    "        time.sleep(2)\n",
    "        print(f'letters in {letter}')\n",
    "\n",
    "\n",
    "## creating two threads\n",
    "\n",
    "t1 = threading.Thread(target = print_numbers)\n",
    "t2 = threading.Thread(target = print_letters)\n",
    "\n",
    "t = time.time()\n",
    "##start thread\n",
    "t1.start()\n",
    "t2.start()\n",
    "\n",
    "\n",
    "#waiting for threads to complete\n",
    "t1.join()\n",
    "t2.join()\n",
    "\n",
    "\n",
    "finished_time = time.time() - t\n",
    "print(finished_time)"
   ]
  },
  {
   "cell_type": "code",
   "execution_count": null,
   "metadata": {},
   "outputs": [],
   "source": []
  }
 ],
 "metadata": {
  "kernelspec": {
   "display_name": "Python 3",
   "language": "python",
   "name": "python3"
  },
  "language_info": {
   "codemirror_mode": {
    "name": "ipython",
    "version": 3
   },
   "file_extension": ".py",
   "mimetype": "text/x-python",
   "name": "python",
   "nbconvert_exporter": "python",
   "pygments_lexer": "ipython3",
   "version": "3.12.0"
  }
 },
 "nbformat": 4,
 "nbformat_minor": 2
}

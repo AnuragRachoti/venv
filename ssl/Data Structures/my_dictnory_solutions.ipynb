{
 "cells": [
  {
   "cell_type": "code",
   "execution_count": 21,
   "metadata": {},
   "outputs": [
    {
     "data": {
      "text/plain": [
       "{1: 1, 2: 4, 3: 9, 4: 16, 5: 25, 6: 36, 7: 49, 8: 64, 9: 81, 10: 100}"
      ]
     },
     "execution_count": 21,
     "metadata": {},
     "output_type": "execute_result"
    }
   ],
   "source": [
    "dict1 = {i:i**2 for i in range(1,11)}\n",
    "dict1\n",
    "    "
   ]
  },
  {
   "cell_type": "code",
   "execution_count": 26,
   "metadata": {},
   "outputs": [
    {
     "name": "stdout",
     "output_type": "stream",
     "text": [
      "25 is value of key 5\n",
      "1\n",
      "2\n",
      "3\n",
      "4\n",
      "5\n",
      "6\n",
      "7\n",
      "8\n",
      "9\n",
      "10\n"
     ]
    }
   ],
   "source": [
    "#value of key 5 and remaining keys\n",
    "print(f'{dict1[5]} is value of key 5')\n",
    "\n",
    "for k in dict1.keys():  \n",
    "        print(k)"
   ]
  },
  {
   "cell_type": "code",
   "execution_count": 32,
   "metadata": {},
   "outputs": [],
   "source": [
    "#adding key value pair \n",
    "\n",
    "dict1[11] = 121"
   ]
  },
  {
   "cell_type": "code",
   "execution_count": 34,
   "metadata": {},
   "outputs": [
    {
     "name": "stdout",
     "output_type": "stream",
     "text": [
      "{2: 4, 3: 9, 4: 16, 5: 25, 6: 36, 7: 49, 8: 64, 9: 81, 10: 100, 11: 121}\n"
     ]
    }
   ],
   "source": [
    "del[dict1[1]]\n",
    "\n",
    "print(dict1)"
   ]
  },
  {
   "cell_type": "code",
   "execution_count": 36,
   "metadata": {},
   "outputs": [
    {
     "name": "stdout",
     "output_type": "stream",
     "text": [
      "2 4\n",
      "3 9\n",
      "4 16\n",
      "5 25\n",
      "6 36\n",
      "7 49\n",
      "8 64\n",
      "9 81\n",
      "10 100\n",
      "11 121\n"
     ]
    }
   ],
   "source": [
    "for keys,values in dict1.items():\n",
    "        print(keys,values)"
   ]
  },
  {
   "cell_type": "code",
   "execution_count": 37,
   "metadata": {},
   "outputs": [
    {
     "name": "stdout",
     "output_type": "stream",
     "text": [
      "{1: 1, 2: 8, 3: 27, 4: 64, 5: 125, 6: 216, 7: 343, 8: 512, 9: 729, 10: 1000}\n"
     ]
    }
   ],
   "source": [
    "dict2 = {x:x**3 for x in range(1,11)}\n",
    "print(dict2)"
   ]
  },
  {
   "cell_type": "code",
   "execution_count": 46,
   "metadata": {},
   "outputs": [
    {
     "name": "stdout",
     "output_type": "stream",
     "text": [
      "{1: 1, 2: 4, 3: 9, 4: 16, 5: 25, 6: 36, 7: 49, 8: 64, 9: 81, 10: 100}\n"
     ]
    }
   ],
   "source": [
    "dict_one = {i:i**2 for i in range(1,6)}\n",
    "dict_two = {j:j**2 for j in range(6,11)}\n",
    "\n",
    "new_dict = {**dict_one, **dict_two}\n",
    "\n",
    "print(new_dict)"
   ]
  },
  {
   "cell_type": "code",
   "execution_count": 47,
   "metadata": {},
   "outputs": [
    {
     "name": "stdout",
     "output_type": "stream",
     "text": [
      "{'name': 'anurag', 'age': 26, 'grades': {'math': 'A', 'science': 'A+', 'english': 'A'}}\n"
     ]
    }
   ],
   "source": [
    "#Create a nested dictionary representing a student with keys \n",
    "# 'name', 'age', 'grades', where 'grades' is another dictionary with keys 'math', 'science', and 'english'. Print the nested dictionary.\n",
    "\n",
    "student_details = {'name':'anurag',\n",
    "                   'age':26,\n",
    "                   'grades':{\n",
    "                       'math' : 'A',\n",
    "                       'science' : 'A+',\n",
    "                       'english' : 'A',\n",
    "                   }\n",
    "                }\n",
    "\n",
    "\n",
    "print(student_details)"
   ]
  },
  {
   "cell_type": "code",
   "execution_count": 51,
   "metadata": {},
   "outputs": [
    {
     "name": "stdout",
     "output_type": "stream",
     "text": [
      "{1: [1, 2, 3, 4, 5], 2: [2, 4, 6, 8, 10], 3: [3, 6, 9, 12, 15], 4: [4, 8, 12, 16, 20], 5: [5, 10, 15, 20, 25]}\n"
     ]
    }
   ],
   "source": [
    "li = {i: [i*j for j in range(1,6)]for i in range(1,6)}\n",
    "print(li)"
   ]
  },
  {
   "cell_type": "code",
   "execution_count": 55,
   "metadata": {},
   "outputs": [
    {
     "name": "stdout",
     "output_type": "stream",
     "text": [
      "{1: (1, 1), 2: (1, 4), 3: (1, 9), 4: (1, 16), 5: (1, 25)}\n"
     ]
    }
   ],
   "source": [
    "li2 = {i: (1, i**2)for i in range(1,6)}\n",
    "print(li2)"
   ]
  },
  {
   "cell_type": "code",
   "execution_count": 61,
   "metadata": {},
   "outputs": [
    {
     "data": {
      "text/plain": [
       "[(1, 1), (2, 4), (3, 9), (4, 16), (5, 25)]"
      ]
     },
     "execution_count": 61,
     "metadata": {},
     "output_type": "execute_result"
    }
   ],
   "source": [
    "nums = {i:i**2 for i in range(1,6)}\n",
    "\n",
    "li = nums.items()\n",
    "li = list(li)\n",
    "li"
   ]
  },
  {
   "cell_type": "code",
   "execution_count": 1,
   "metadata": {},
   "outputs": [
    {
     "data": {
      "text/plain": [
       "{2: 4, 4: 16, 6: 36, 8: 64, 10: 100}"
      ]
     },
     "execution_count": 1,
     "metadata": {},
     "output_type": "execute_result"
    }
   ],
   "source": [
    "dict_sqares = {i:i**2 for i in range(1,11) if i%2==0}\n",
    "dict_sqares"
   ]
  },
  {
   "cell_type": "code",
   "execution_count": 4,
   "metadata": {},
   "outputs": [
    {
     "name": "stdout",
     "output_type": "stream",
     "text": [
      "{1: 1, 4: 2, 9: 3, 16: 4, 25: 5}\n"
     ]
    }
   ],
   "source": [
    "dict_num = {x:x**2 for x in range(1,6)}\n",
    "c = 0\n",
    "\n",
    "def swap(dict_num):\n",
    "    swapped_dict = {value:key for key,value in dict_num.items()}\n",
    "    return swapped_dict\n",
    "\n",
    "\n",
    "print(swap(dict_num))"
   ]
  },
  {
   "cell_type": "code",
   "execution_count": 9,
   "metadata": {},
   "outputs": [
    {
     "name": "stdout",
     "output_type": "stream",
     "text": [
      "defaultdict(<class 'list'>, {'a': [1, 2], 'b': [3]})\n"
     ]
    }
   ],
   "source": [
    "from collections import defaultdict\n",
    "\n",
    "default_dict = defaultdict(list)\n",
    "default_dict['a'].append(1)\n",
    "default_dict['a'].append(2)\n",
    "default_dict['b'].append(3)\n",
    "print(default_dict)"
   ]
  },
  {
   "cell_type": "code",
   "execution_count": 42,
   "metadata": {},
   "outputs": [
    {
     "name": "stdout",
     "output_type": "stream",
     "text": [
      "{'a': 2, 'n': 1, 'u': 1, 'r': 1, 'g': 1}\n"
     ]
    }
   ],
   "source": [
    "def word_count(word):\n",
    "   cnt_dict = {}\n",
    "   for char in word:\n",
    "      cnt_dict[char] = cnt_dict.get(char,0) + 1\n",
    "   return cnt_dict\n",
    "\n",
    "print(word_count('anurag'))\n",
    "\n"
   ]
  },
  {
   "cell_type": "code",
   "execution_count": 40,
   "metadata": {},
   "outputs": [],
   "source": [
    "#### Assignment 15: Dictionary and JSON\n",
    "\n",
    "# Create a dictionary representing a book with keys 'title', 'author', 'year', and 'genre'. Convert the dictionary to a JSON string and print it.\n",
    "import json \n",
    "   \n",
    "# Define student_details dictionary\n",
    "author_details ={ \n",
    "    'title':'svsc',\n",
    "    \"author\" : \"sathiyajith\", \n",
    "    \"year\" : 2012, \n",
    "    \"genre\" : 'comedy'\n",
    "} \n",
    "   \n",
    "# Convert and write JSON object to file\n",
    "with open(\"author.json\", \"w\") as outfile: \n",
    "    json.dump(author_details, outfile)"
   ]
  },
  {
   "cell_type": "code",
   "execution_count": null,
   "metadata": {},
   "outputs": [],
   "source": []
  }
 ],
 "metadata": {
  "kernelspec": {
   "display_name": "Python 3",
   "language": "python",
   "name": "python3"
  },
  "language_info": {
   "codemirror_mode": {
    "name": "ipython",
    "version": 3
   },
   "file_extension": ".py",
   "mimetype": "text/x-python",
   "name": "python",
   "nbconvert_exporter": "python",
   "pygments_lexer": "ipython3",
   "version": "3.12.0"
  }
 },
 "nbformat": 4,
 "nbformat_minor": 2
}

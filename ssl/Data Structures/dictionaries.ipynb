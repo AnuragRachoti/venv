{
 "cells": [
  {
   "cell_type": "code",
   "execution_count": 1,
   "metadata": {},
   "outputs": [
    {
     "name": "stdout",
     "output_type": "stream",
     "text": [
      "{'name': 'anurag', 'age': 26, 'grade': 8.7}\n"
     ]
    }
   ],
   "source": [
    "##dictionaries, key must be unique and values are mutable\n",
    "\n",
    "dict1 = {}\n",
    "student = {'name':'anurag', 'age':26,'grade':8.7}\n",
    "print(student)\n",
    "\n",
    " "
   ]
  },
  {
   "cell_type": "code",
   "execution_count": 6,
   "metadata": {},
   "outputs": [
    {
     "name": "stdout",
     "output_type": "stream",
     "text": [
      "8.7\n",
      "anurag\n",
      "26\n",
      "None\n",
      "not available\n"
     ]
    }
   ],
   "source": [
    "#accessing dictionary elements\n",
    "print(student['grade'])\n",
    "print(student['name'])\n",
    "\n",
    "print(student.get('age'))\n",
    "print(student.get('last_name'))\n",
    "print(student.get('last_name','not available'))"
   ]
  },
  {
   "cell_type": "code",
   "execution_count": 10,
   "metadata": {},
   "outputs": [
    {
     "name": "stdout",
     "output_type": "stream",
     "text": [
      "{'name': 'anurag', 'age': 33, 'grade': 8.7, 'address': '9-104/6, bollaram, secundrabad'}\n"
     ]
    }
   ],
   "source": [
    "##modyfing dict elements\n",
    "##*** dictionaries are mutable, add, update or delete elements\n",
    "student['age'] = 33\n",
    "print(student)\n",
    "student['address'] = '9-104/6, bollaram, secundrabad'\n",
    "student['country'] = 'india'\n"
   ]
  },
  {
   "cell_type": "code",
   "execution_count": 12,
   "metadata": {},
   "outputs": [
    {
     "name": "stdout",
     "output_type": "stream",
     "text": [
      "{'name': 'anurag', 'age': 33, 'grade': 8.7, 'address': '9-104/6, bollaram, secundrabad'}\n"
     ]
    }
   ],
   "source": [
    "del student['country']\n",
    "print(student)"
   ]
  },
  {
   "cell_type": "code",
   "execution_count": 16,
   "metadata": {},
   "outputs": [
    {
     "name": "stdout",
     "output_type": "stream",
     "text": [
      "dict_keys(['name', 'age', 'grade', 'address']) dict_values(['anurag', 33, 8.7, '9-104/6, bollaram, secundrabad'])\n"
     ]
    },
    {
     "data": {
      "text/plain": [
       "dict_items([('name', 'anurag'), ('age', 33), ('grade', 8.7), ('address', '9-104/6, bollaram, secundrabad')])"
      ]
     },
     "execution_count": 16,
     "metadata": {},
     "output_type": "execute_result"
    }
   ],
   "source": [
    "###common dictionary methods.\n",
    "\n",
    "keys=student.keys()\n",
    "values = student.values()\n",
    "print(keys,values)\n",
    "\n",
    "items = student.items() ## gives key value pairs\n",
    "items"
   ]
  },
  {
   "cell_type": "code",
   "execution_count": 27,
   "metadata": {},
   "outputs": [
    {
     "name": "stdout",
     "output_type": "stream",
     "text": [
      "{'name': 'r anurag', 'age': 33, 'grade': 8.7, 'address': '9-104/6, bollaram, secundrabad'}\n"
     ]
    }
   ],
   "source": [
    "###deep copy....\n",
    "student_copy = student\n",
    "student['name']= 'r anurag'\n",
    "print(student_copy)"
   ]
  },
  {
   "cell_type": "code",
   "execution_count": 34,
   "metadata": {},
   "outputs": [
    {
     "name": "stdout",
     "output_type": "stream",
     "text": [
      "{'name': 'anurag', 'age': 33, 'grade': 8.7, 'address': '9-104/6, bollaram, secundrabad'}\n"
     ]
    }
   ],
   "source": [
    "#shallo copy\n",
    "student_copy1 = student.copy()\n",
    "student['name']= 'anurag'\n",
    "print(student_copy1)"
   ]
  },
  {
   "cell_type": "code",
   "execution_count": 37,
   "metadata": {},
   "outputs": [
    {
     "name": "stdout",
     "output_type": "stream",
     "text": [
      "('name', 'anurag')\n",
      "('age', 33)\n",
      "('grade', 8.7)\n",
      "('address', '9-104/6, bollaram, secundrabad')\n"
     ]
    }
   ],
   "source": [
    "##iteration in dictionary\n",
    "\n",
    "for items in student.items():\n",
    "    print(items)"
   ]
  },
  {
   "cell_type": "code",
   "execution_count": 40,
   "metadata": {},
   "outputs": [
    {
     "name": "stdout",
     "output_type": "stream",
     "text": [
      "anurag 26\n"
     ]
    }
   ],
   "source": [
    "#Nested dictionaries\n",
    "students={\n",
    "    'student1':{'name':'krishh','age':32},\n",
    "    'student2':{'name':'anurag','age':26},\n",
    "    'student3' : {'name':'vijay','age':26},\n",
    "    'student4':{'name':'karthik','age':21}\n",
    "    }\n",
    "\n",
    "print(students['student2']['name'],students['student2']['age'])\n"
   ]
  },
  {
   "cell_type": "code",
   "execution_count": 58,
   "metadata": {},
   "outputs": [
    {
     "name": "stdout",
     "output_type": "stream",
     "text": [
      "name:krishh\n",
      "name:anurag\n",
      "name:vijay\n",
      "name:karthik\n"
     ]
    }
   ],
   "source": [
    "#iterating over nested dictionaries\n",
    "\n",
    "for student_id, student_information in students.items():\n",
    "    for key,values in student_information.items():\n",
    "        if key == 'name':\n",
    "            print(f'{key}:{values}')\n",
    "        \n",
    "    "
   ]
  },
  {
   "cell_type": "code",
   "execution_count": 62,
   "metadata": {},
   "outputs": [
    {
     "name": "stdout",
     "output_type": "stream",
     "text": [
      "{0: 0, 2: 4, 4: 16}\n"
     ]
    }
   ],
   "source": [
    "##dictionay comprehension. & conditional comprehension.\n",
    "sqaures = {x:x**2 for x in range(5) if x%2 == 0}\n",
    "print(sqaures)"
   ]
  },
  {
   "cell_type": "code",
   "execution_count": 81,
   "metadata": {},
   "outputs": [
    {
     "name": "stdout",
     "output_type": "stream",
     "text": [
      "{1: 1, 2: 1, 3: 3, 4: 4}\n"
     ]
    }
   ],
   "source": [
    "## Practical examples\n",
    "\n",
    "#use a dictionary to count the frequency of elements in list\n",
    "\n",
    "numbers = [1,2,3,3,3,4,4,4,4]\n",
    "\n",
    "frequency = {}\n",
    "\n",
    "for number in numbers:\n",
    "    if number in frequency:\n",
    "        frequency[number]+=1\n",
    "    else:\n",
    "        frequency[number] = 1\n",
    "print(frequency)\n"
   ]
  },
  {
   "cell_type": "code",
   "execution_count": 83,
   "metadata": {},
   "outputs": [
    {
     "name": "stdout",
     "output_type": "stream",
     "text": [
      "{'a': 1, 'b': 3, 'c': 4}\n"
     ]
    }
   ],
   "source": [
    "#merge two dictionaries into one\n",
    "dict1 = {\"a\":1,\"b\":2}\n",
    "dict2 = {'b':3,'c':4}\n",
    "\n",
    "merg_dict = {**dict1,**dict2}\n",
    "print(merg_dict)\n"
   ]
  },
  {
   "cell_type": "code",
   "execution_count": null,
   "metadata": {},
   "outputs": [],
   "source": []
  }
 ],
 "metadata": {
  "kernelspec": {
   "display_name": "Python 3",
   "language": "python",
   "name": "python3"
  },
  "language_info": {
   "codemirror_mode": {
    "name": "ipython",
    "version": 3
   },
   "file_extension": ".py",
   "mimetype": "text/x-python",
   "name": "python",
   "nbconvert_exporter": "python",
   "pygments_lexer": "ipython3",
   "version": "3.12.0"
  }
 },
 "nbformat": 4,
 "nbformat_minor": 2
}

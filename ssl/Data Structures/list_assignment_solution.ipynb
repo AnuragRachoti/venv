{
 "cells": [
  {
   "cell_type": "code",
   "execution_count": 20,
   "metadata": {},
   "outputs": [
    {
     "name": "stdout",
     "output_type": "stream",
     "text": [
      "[1, 2, 3, 4, 5, 6, 7, 8, 9, 10, 11, 12, 13, 14, 15, 16, 17, 18, 19, 20]\n"
     ]
    }
   ],
   "source": [
    "li = []\n",
    "for i in range(1,21):\n",
    "    li.append(i)\n",
    "\n",
    "print(li)"
   ]
  },
  {
   "cell_type": "code",
   "execution_count": 8,
   "metadata": {},
   "outputs": [
    {
     "name": "stdout",
     "output_type": "stream",
     "text": [
      "1 10 20\n"
     ]
    }
   ],
   "source": [
    "print(li[0], li[9], li[19])"
   ]
  },
  {
   "cell_type": "code",
   "execution_count": 15,
   "metadata": {},
   "outputs": [
    {
     "name": "stdout",
     "output_type": "stream",
     "text": [
      "[1, 2, 3, 4, 5]\n",
      "[16, 17, 18, 19, 20]\n",
      "[6, 7, 8, 9, 10, 11, 12, 13, 14, 15, 16]\n"
     ]
    }
   ],
   "source": [
    "print(li[0:5])\n",
    "print(li[15:])\n",
    "print(li[5:16])"
   ]
  },
  {
   "cell_type": "code",
   "execution_count": 19,
   "metadata": {},
   "outputs": [
    {
     "name": "stdout",
     "output_type": "stream",
     "text": [
      "[0, 1, 4, 9, 16, 25, 36, 49, 64, 81, 100, 121, 144, 169, 196, 225, 256, 289, 324, 361, 400]\n"
     ]
    }
   ],
   "source": [
    "li2 = [i**2 for i in range(21)]\n",
    "print(li2)"
   ]
  },
  {
   "cell_type": "code",
   "execution_count": 26,
   "metadata": {},
   "outputs": [
    {
     "data": {
      "text/plain": [
       "[2, 4, 6, 8, 10, 12, 14, 16, 18, 20]"
      ]
     },
     "execution_count": 26,
     "metadata": {},
     "output_type": "execute_result"
    }
   ],
   "source": [
    "li_even = [x for x in li if x%2 == 0]\n",
    "\n",
    "li_even\n",
    "\n"
   ]
  },
  {
   "cell_type": "code",
   "execution_count": 12,
   "metadata": {},
   "outputs": [
    {
     "name": "stdout",
     "output_type": "stream",
     "text": [
      "6\n"
     ]
    }
   ],
   "source": [
    "li = [\n",
    "    [1,2,3],\n",
    "    [4,5,6],\n",
    "    [6,7,8]\n",
    "]\n",
    "\n",
    "x = li[1][2]\n",
    "print(x)"
   ]
  },
  {
   "cell_type": "code",
   "execution_count": 19,
   "metadata": {},
   "outputs": [
    {
     "data": {
      "text/plain": [
       "[{'name': 'venkat', 'score': 43},\n",
       " {'name': 'madhu', 'score': 32},\n",
       " {'name': 'raj', 'score': 12},\n",
       " {'name': 'karthik', 'score': 7.5},\n",
       " {'name': 'vijay', 'score': 7},\n",
       " {'name': 'anurag', 'score': 6.5}]"
      ]
     },
     "execution_count": 19,
     "metadata": {},
     "output_type": "execute_result"
    }
   ],
   "source": [
    "##Create a list of dictionaries where each dictionary represents a student with keys 'name' and 'score'.\n",
    "#  Sort the list of dictionaries by the 'score' in descending order and print the sorted list.\n",
    "\n",
    "dict1 = [{'name':'anurag', 'score': 6.5},\n",
    "         {'name':'vijay', 'score': 7},\n",
    "         {'name':'karthik','score': 7.5},\n",
    "         {'name':'venkat','score': 43},\n",
    "          {'name':'madhu','score':32},\n",
    "          {'name':'raj','score':12}\n",
    "          ]\n",
    "\n",
    "dict1.sort(key = lambda dict1 : dict1['score'], reverse=True)\n",
    "dict1"
   ]
  },
  {
   "cell_type": "code",
   "execution_count": 27,
   "metadata": {},
   "outputs": [
    {
     "name": "stdout",
     "output_type": "stream",
     "text": [
      "(1, 4, 6)\n",
      "(2, 5, 7)\n",
      "(3, 6, 8)\n",
      "[1, 2, 3]\n",
      "[4, 5, 6]\n",
      "[6, 7, 8]\n"
     ]
    }
   ],
   "source": [
    "tranpose_matrix =  list(zip(*li))\n",
    "\n",
    "for row_t in tranpose_matrix:\n",
    "    print(row_t)\n",
    "\n",
    "for row in li:\n",
    "    print(row)"
   ]
  },
  {
   "cell_type": "code",
   "execution_count": 36,
   "metadata": {},
   "outputs": [
    {
     "name": "stdout",
     "output_type": "stream",
     "text": [
      "[1, 2, 3, 3, 4, 5, 6, 7, 8]\n"
     ]
    }
   ],
   "source": [
    "def flatten_list(li):\n",
    "    flat_list = []\n",
    "\n",
    "    for num in li:\n",
    "        if isinstance(num,list):\n",
    "            flat_list.extend(flatten_list(num))\n",
    "        else:\n",
    "            flat_list.append(num)\n",
    "\n",
    "    return flat_list\n",
    "\n",
    "\n",
    "\n",
    "flat_built_list = flatten_list(li)\n",
    "print(flat_built_list)\n"
   ]
  },
  {
   "cell_type": "code",
   "execution_count": 44,
   "metadata": {},
   "outputs": [
    {
     "name": "stdout",
     "output_type": "stream",
     "text": [
      "[1, 2, 3, 3, 4, 5, 6, 7, 8, 9, 10, 9, 9, 9, 10]\n",
      "[1, 2, 3, 4, 5, 99, 7, 8, 9, 10]\n"
     ]
    }
   ],
   "source": [
    "li2 = [num for num in range(1,11)]\n",
    "li2[5] = 99\n",
    "li2\n",
    "\n",
    "arr = [9,10]\n",
    "for i in arr:\n",
    "        li2.append(i)\n"
   ]
  },
  {
   "cell_type": "code",
   "execution_count": 60,
   "metadata": {},
   "outputs": [
    {
     "name": "stdout",
     "output_type": "stream",
     "text": [
      "[(1, 1), (2, 2), (3, 3), (4, 3), (5, 4), (99, 5), (7, 6), (8, 7), (9, 8), (10, 9), (9, 10), (10, 9), (9, 9), (10, 9), (12, 10)]\n"
     ]
    }
   ],
   "source": [
    "new_list = list(zip(li2, flat_built_list))\n",
    "print(new_list)"
   ]
  },
  {
   "cell_type": "code",
   "execution_count": 63,
   "metadata": {},
   "outputs": [
    {
     "name": "stdout",
     "output_type": "stream",
     "text": [
      "[10, 9, 9, 9, 10, 9, 8, 7, 6, 5, 4, 3, 3, 2, 1]\n"
     ]
    }
   ],
   "source": [
    "def reverse_funtion(li):\n",
    "    li  = flat_built_list\n",
    "    li = li[::-1]\n",
    "    return li\n",
    "\n",
    "reverse_list = reverse_funtion(flat_built_list)\n",
    "print(reverse_list)"
   ]
  },
  {
   "cell_type": "code",
   "execution_count": 69,
   "metadata": {},
   "outputs": [
    {
     "name": "stdout",
     "output_type": "stream",
     "text": [
      "[1, 2, 3, 3, 4, 5, 6, 7, 8, 9, 10, 9, 9, 9, 10]\n",
      "[3, 4, 5, 6, 7, 8, 9, 10, 9, 9, 9, 10, 1, 2, 3]\n"
     ]
    }
   ],
   "source": [
    "def rotation_list(rotate_list,n):\n",
    "    rotate_list = flat_built_list[n:] + flat_built_list[:n]\n",
    "\n",
    "    return rotate_list\n",
    "\n",
    "rotate_built_list = rotation_list(flat_built_list,3)\n",
    "print(flat_built_list)\n",
    "print(rotate_built_list)"
   ]
  },
  {
   "cell_type": "code",
   "execution_count": 76,
   "metadata": {},
   "outputs": [
    {
     "name": "stdout",
     "output_type": "stream",
     "text": [
      "[1, 2, 3, 3, 4, 5, 6, 7, 8]\n",
      "[1, 2, 3, 4, 5, 99, 7, 8, 9, 10, 9, 10, 9, 10, 12]\n"
     ]
    }
   ],
   "source": [
    "li1 = flatten_list(li)\n",
    "print(li1)\n",
    "print(li2)"
   ]
  },
  {
   "cell_type": "code",
   "execution_count": 80,
   "metadata": {},
   "outputs": [],
   "source": [
    "def intersection(li1,li2):\n",
    "    new_li = []\n",
    "\n",
    "    for n1 in li1:\n",
    "        for n2 in li2:\n",
    "            if n1 == n2:\n",
    "                new_li.append(n2)\n",
    "\n",
    "    return new_li\n",
    "\n",
    "new_li = intersection(li1,li2)"
   ]
  },
  {
   "cell_type": "code",
   "execution_count": 82,
   "metadata": {},
   "outputs": [
    {
     "data": {
      "text/plain": [
       "[1, 2, 3, 3, 4, 5, 7, 8]"
      ]
     },
     "execution_count": 82,
     "metadata": {},
     "output_type": "execute_result"
    }
   ],
   "source": [
    "new_li"
   ]
  },
  {
   "cell_type": "code",
   "execution_count": null,
   "metadata": {},
   "outputs": [],
   "source": []
  }
 ],
 "metadata": {
  "kernelspec": {
   "display_name": "Python 3",
   "language": "python",
   "name": "python3"
  },
  "language_info": {
   "codemirror_mode": {
    "name": "ipython",
    "version": 3
   },
   "file_extension": ".py",
   "mimetype": "text/x-python",
   "name": "python",
   "nbconvert_exporter": "python",
   "pygments_lexer": "ipython3",
   "version": "3.12.0"
  }
 },
 "nbformat": 4,
 "nbformat_minor": 2
}

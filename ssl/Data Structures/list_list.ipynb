{
 "cells": [
  {
   "cell_type": "code",
   "execution_count": 3,
   "metadata": {},
   "outputs": [
    {
     "name": "stdout",
     "output_type": "stream",
     "text": [
      "[1, 2, 3, 4, 5, 'anurag', 'rachoti', 'captain']\n"
     ]
    }
   ],
   "source": [
    "##List topics.\n",
    "\n",
    "li = [1,2,3,4,5,'anurag','rachoti','captain']\n",
    "print(li)"
   ]
  },
  {
   "cell_type": "code",
   "execution_count": 15,
   "metadata": {},
   "outputs": [
    {
     "name": "stdout",
     "output_type": "stream",
     "text": [
      "['water melon', 'kiwi', 'apple', 'orange', 'gauva']\n"
     ]
    }
   ],
   "source": [
    "#accessing list elements\n",
    "fruits = ['banana','kiwi','apple','orange','gauva']\n",
    "\n",
    "fruits[0] = 'water melon'\n"
   ]
  },
  {
   "cell_type": "code",
   "execution_count": 16,
   "metadata": {},
   "outputs": [
    {
     "name": "stdout",
     "output_type": "stream",
     "text": [
      "['banana', 'kiwi', 'apple', 'orange', 'gauva', 'water melon']\n"
     ]
    }
   ],
   "source": [
    "#list methods\n",
    "fruits = ['banana','kiwi','apple','orange','gauva']\n",
    "fruits.append('water melon')\n",
    "print(fruits)"
   ]
  },
  {
   "cell_type": "code",
   "execution_count": 18,
   "metadata": {},
   "outputs": [
    {
     "data": {
      "text/plain": [
       "['banana',\n",
       " 'banana',\n",
       " 'banana',\n",
       " 'kiwi',\n",
       " 'apple',\n",
       " 'orange',\n",
       " 'gauva',\n",
       " 'water melon']"
      ]
     },
     "execution_count": 18,
     "metadata": {},
     "output_type": "execute_result"
    }
   ],
   "source": [
    "fruits.insert(1,'banana')\n"
   ]
  },
  {
   "cell_type": "code",
   "execution_count": 19,
   "metadata": {},
   "outputs": [],
   "source": [
    "fruits.remove('banana') ##removing first occurence of the item."
   ]
  },
  {
   "cell_type": "code",
   "execution_count": 21,
   "metadata": {},
   "outputs": [
    {
     "name": "stdout",
     "output_type": "stream",
     "text": [
      "water melon\n",
      "['banana', 'banana', 'kiwi', 'apple', 'orange', 'gauva']\n"
     ]
    }
   ],
   "source": [
    "##removing and returning the last\n",
    "\n",
    "pop_fruits = fruits.pop()\n",
    "print(pop_fruits)\n",
    "print(fruits)"
   ]
  },
  {
   "cell_type": "code",
   "execution_count": 26,
   "metadata": {},
   "outputs": [
    {
     "name": "stdout",
     "output_type": "stream",
     "text": [
      "1\n",
      "2\n"
     ]
    }
   ],
   "source": [
    "#indexing \n",
    "\n",
    "index = fruits.index('banana')\n",
    "print(index)\n",
    "\n",
    "print(fruits.count('banana'))\n",
    "\n"
   ]
  },
  {
   "cell_type": "code",
   "execution_count": 29,
   "metadata": {},
   "outputs": [],
   "source": [
    "fruits.sort()\n",
    "fruits\n",
    "fruits.clear()"
   ]
  },
  {
   "cell_type": "code",
   "execution_count": 30,
   "metadata": {},
   "outputs": [
    {
     "name": "stdout",
     "output_type": "stream",
     "text": [
      "[]\n"
     ]
    }
   ],
   "source": [
    "print(fruits)"
   ]
  },
  {
   "cell_type": "code",
   "execution_count": 33,
   "metadata": {},
   "outputs": [
    {
     "name": "stdout",
     "output_type": "stream",
     "text": [
      "[3, 4, 5]\n",
      "[1, 2, 3, 4, 5]\n",
      "[6, 7, 8]\n",
      "[1, 3, 5, 7]\n",
      "[8, 7, 6, 5, 4, 3, 2, 1]\n",
      "[8, 6, 4, 2]\n"
     ]
    }
   ],
   "source": [
    "##Slicing List\n",
    "nums= [1,2,3,4,5,6,7,8]\n",
    "print(nums[2:5])\n",
    "print(nums[:5])\n",
    "print(nums[5:])\n",
    "print(nums[::2]) ##step size\n",
    "print(nums[::-1]) ##reversing the list and printing it.\n",
    "print(nums[::-2])\n"
   ]
  },
  {
   "cell_type": "code",
   "execution_count": 34,
   "metadata": {},
   "outputs": [
    {
     "name": "stdout",
     "output_type": "stream",
     "text": [
      "1\n",
      "2\n",
      "3\n",
      "4\n",
      "5\n",
      "6\n",
      "7\n",
      "8\n"
     ]
    }
   ],
   "source": [
    "##iterating over list\n",
    "\n",
    "for num in nums:\n",
    "    print(num)"
   ]
  },
  {
   "cell_type": "code",
   "execution_count": 37,
   "metadata": {},
   "outputs": [
    {
     "name": "stdout",
     "output_type": "stream",
     "text": [
      "(0, 1)\n",
      "(1, 2)\n",
      "(2, 3)\n",
      "(3, 4)\n",
      "(4, 5)\n",
      "(5, 6)\n",
      "(6, 7)\n",
      "(7, 8)\n"
     ]
    }
   ],
   "source": [
    "#Iterating with indexes\n",
    "#enum always gives a tupple class... \n",
    "\n",
    "for i, num in enumerate(nums):\n",
    "    print(i, num)"
   ]
  },
  {
   "cell_type": "code",
   "execution_count": 42,
   "metadata": {},
   "outputs": [
    {
     "name": "stdout",
     "output_type": "stream",
     "text": [
      "[0, 1, 4, 9, 16, 25, 36, 49, 64, 81]\n"
     ]
    }
   ],
   "source": [
    "#List comprehension \n",
    "\n",
    "lst = [(x**2) for x in range(10)]\n",
    "print(lst)\n"
   ]
  },
  {
   "cell_type": "markdown",
   "metadata": {},
   "source": [
    "#### List Comprehension syntax\n",
    "basic syntax            [expression for item in iterable]\n",
    "\n",
    "with conditional logic [expression for item in iterable if condition]\n",
    "\n",
    "#### Nested List comprehension\n",
    "Iterating through two different iterables \n",
    "[expression for item1 in iterable1 for item2 in iterable1]"
   ]
  },
  {
   "cell_type": "code",
   "execution_count": 51,
   "metadata": {},
   "outputs": [
    {
     "name": "stdout",
     "output_type": "stream",
     "text": [
      "[0, 2, 4, 6, 8]\n"
     ]
    }
   ],
   "source": [
    "##basic list comprehension\n",
    "even_numbers = [num for num in range(10) if num%2 ==0]\n",
    "print(even_numbers)"
   ]
  },
  {
   "cell_type": "code",
   "execution_count": 8,
   "metadata": {},
   "outputs": [
    {
     "name": "stdout",
     "output_type": "stream",
     "text": [
      "pay it by 5pm\n",
      "to do list\n",
      "-wakeup at 5am\n",
      "-clean my room\n",
      "-do bath\n",
      "-pay utility bills\n"
     ]
    }
   ],
   "source": [
    "#todo-list\n",
    "\n",
    "to_do_list = ['wakeup at 5am','do meditation','clean my room']\n",
    "\n",
    "to_do_list.append('do bath')\n",
    "to_do_list.append('pay utility bills')\n",
    "\n",
    "to_do_list.remove('do meditation')\n",
    "\n",
    "if 'pay utility bills' in to_do_list:\n",
    "    print('pay it by 5pm')\n",
    "\n",
    "print('to do list')\n",
    "for tasks in to_do_list:\n",
    "    print(f'-{tasks}')\n",
    "\n"
   ]
  },
  {
   "cell_type": "markdown",
   "metadata": {},
   "source": [
    "### Organizing student grades"
   ]
  },
  {
   "cell_type": "code",
   "execution_count": 16,
   "metadata": {},
   "outputs": [
    {
     "name": "stdout",
     "output_type": "stream",
     "text": [
      "Average Grade = 88.67\n",
      "99 is the highest grade\n",
      "78 is the lowest grade\n"
     ]
    }
   ],
   "source": [
    "#organizing student grades\n",
    "grades = [85,92,78,90,88]\n",
    "\n",
    "#adding grades\n",
    "grades.append(99)\n",
    "\n",
    "##calculating grade calculator\n",
    "average_grade = sum(grades)/len(grades)\n",
    "print(f'Average Grade = {average_grade:.2f}')\n",
    "\n",
    "##finding highest and lowest grade\n",
    "highest_grade = print(f'{max(grades)} is the highest grade')\n",
    "lowest_grade = print(f'{min(grades)} is the lowest grade')\n",
    "\n",
    "\n"
   ]
  },
  {
   "cell_type": "markdown",
   "metadata": {},
   "source": [
    "### managing an inventory\n",
    "    use a list to manage inventory items in a store"
   ]
  },
  {
   "cell_type": "markdown",
   "metadata": {},
   "source": []
  },
  {
   "cell_type": "code",
   "execution_count": 22,
   "metadata": {},
   "outputs": [
    {
     "name": "stdout",
     "output_type": "stream",
     "text": [
      "item is there in the stock\n",
      "items which are available in the stock\n",
      "-apples\n",
      "-grapes\n",
      "-oranges\n",
      "-lemons\n"
     ]
    }
   ],
   "source": [
    "#managing an inventory\n",
    "inventory = ['apples','bananas','grapes','oranges']\n",
    "\n",
    "#adding a new item\n",
    "inventory.append('lemons')\n",
    "\n",
    "#removing bananas\n",
    "inventory.remove('bananas')\n",
    "\n",
    "#checking if the item is there in the stock or not\n",
    "\n",
    "item = 'oranges'\n",
    "if item in inventory:\n",
    "    print('item is there in the stock')\n",
    "else:\n",
    "    print('current item out of stock')\n",
    "\n",
    "\n",
    "#printing entire inventory stock\n",
    "print('items which are available in the stock')\n",
    "for item in inventory:\n",
    "    print(f'-{item}')"
   ]
  },
  {
   "cell_type": "code",
   "execution_count": 24,
   "metadata": {},
   "outputs": [
    {
     "name": "stdout",
     "output_type": "stream",
     "text": [
      "3\n"
     ]
    }
   ],
   "source": [
    "#Collecting user feedback\n",
    "feedback = ['Great service!','very satisfied','could be better','Excellent experience']\n",
    "\n",
    "#adding new feedback\n",
    "feedback.append('not happy with the service')\n",
    "\n",
    "#counting specific feedbacks\n",
    "positive_feedback_count = sum(1 for comment in feedback if 'great' in comment.lower() or 'excellent' in comment.lower() or \n",
    "                            'satisfied' in comment.lower() )\n",
    "\n",
    "print(positive_feedback_count)\n",
    "\n"
   ]
  },
  {
   "cell_type": "code",
   "execution_count": null,
   "metadata": {},
   "outputs": [],
   "source": []
  }
 ],
 "metadata": {
  "kernelspec": {
   "display_name": "Python 3",
   "language": "python",
   "name": "python3"
  },
  "language_info": {
   "codemirror_mode": {
    "name": "ipython",
    "version": 3
   },
   "file_extension": ".py",
   "mimetype": "text/x-python",
   "name": "python",
   "nbconvert_exporter": "python",
   "pygments_lexer": "ipython3",
   "version": "3.12.0"
  }
 },
 "nbformat": 4,
 "nbformat_minor": 2
}

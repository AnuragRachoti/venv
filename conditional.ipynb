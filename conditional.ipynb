{
 "cells": [
  {
   "cell_type": "code",
   "execution_count": 3,
   "metadata": {},
   "outputs": [
    {
     "name": "stdout",
     "output_type": "stream",
     "text": [
      "you are a minor\n"
     ]
    }
   ],
   "source": [
    "##if and else statements\n",
    "age = 15\n",
    "if age >= 18:\n",
    "    print('you are allowed to vote in the elections')\n",
    "else:\n",
    "    print('you are a minor')"
   ]
  },
  {
   "cell_type": "code",
   "execution_count": 4,
   "metadata": {},
   "outputs": [
    {
     "name": "stdout",
     "output_type": "stream",
     "text": [
      "you are ab adult\n"
     ]
    }
   ],
   "source": [
    "##elif statement allows you to check for multiple conditions\n",
    "\n",
    "age = 20\n",
    "\n",
    "if age < 13:\n",
    "    print('you are a child')\n",
    "elif age < 18:\n",
    "    print('you are a teenager')\n",
    "else:\n",
    "    print('you are ab adult')\n"
   ]
  },
  {
   "cell_type": "code",
   "execution_count": 8,
   "metadata": {},
   "outputs": [
    {
     "name": "stdout",
     "output_type": "stream",
     "text": [
      "number is zero\n"
     ]
    }
   ],
   "source": [
    "##nested conditional statements\n",
    "\n",
    "num = int(input('enter number'))\n",
    "\n",
    "if num >0:\n",
    "    print('number is positive')\n",
    "    if num%2==0:\n",
    "        print('number is even')\n",
    "    else:\n",
    "        print('number is odd')\n",
    "\n",
    "elif num < 0:\n",
    "    print('number is negative')\n",
    "\n",
    "else:\n",
    "    print('number is zero')"
   ]
  },
  {
   "cell_type": "code",
   "execution_count": 17,
   "metadata": {},
   "outputs": [
    {
     "name": "stdout",
     "output_type": "stream",
     "text": [
      "2024 is a leap year\n"
     ]
    }
   ],
   "source": [
    "#year is leap year using nested condition statements\n",
    "\n",
    "year = int(input('enter the year to check leap year or not'))\n",
    "\n",
    "if year > 0:\n",
    "    if year%4==0:\n",
    "        if year%100 ==0:\n",
    "            if year%400 == 0:\n",
    "                print(f'{year} is leap year')\n",
    "            else:\n",
    "                print('not a leap year')\n",
    "        else:\n",
    "            print(f'{year} is a leap year')\n",
    "\n",
    "    else:\n",
    "        print('not a leap year not divisible by 4')"
   ]
  },
  {
   "cell_type": "code",
   "execution_count": 24,
   "metadata": {},
   "outputs": [
    {
     "name": "stdout",
     "output_type": "stream",
     "text": [
      "infinity\n"
     ]
    }
   ],
   "source": [
    "##Simple calculator program \n",
    "\n",
    "n1 = float(input('enter the number1'))\n",
    "n2 = float(input('enter the number2'))\n",
    "\n",
    "operation = input('enter symbol for operation + , - , * , / , %')\n",
    "\n",
    "if operation == '+':\n",
    "    print(n1+n2)\n",
    "\n",
    "elif operation == '-':\n",
    "    print(n1-n2)\n",
    "\n",
    "elif operation == '*':\n",
    "    print(n1*n2)\n",
    "\n",
    "elif operation == '/':\n",
    "    if n2!= 0:\n",
    "        print(n1/n2)\n",
    "    else:\n",
    "        print('infinity')\n",
    "\n",
    "elif operation == '%':\n",
    "    print(n1%n2)\n",
    "\n",
    "else:\n",
    "    print('enter right number or right operation required')"
   ]
  },
  {
   "cell_type": "code",
   "execution_count": 25,
   "metadata": {},
   "outputs": [
    {
     "name": "stdout",
     "output_type": "stream",
     "text": [
      "person is teenager_student and $12 is the price of ticket\n"
     ]
    }
   ],
   "source": [
    "## determine the ticket price based on age and whether the person is a student.\n",
    "\n",
    "age = int(input('enter the age of student'))\n",
    "price = '$25'\n",
    "\n",
    "if age < 10:\n",
    "    price  = '$5'\n",
    "    print(f'person is child_student and {price} is the price of ticket')\n",
    "\n",
    "elif age >13 and age <=18:\n",
    "    price='$12'\n",
    "    print(f'person is teenager_student and {price} is the price of ticket')\n",
    "\n",
    "elif age > 18 and age <=21:\n",
    "    price = '$18'\n",
    "    print(f'person is grad and {price} is the price of ticket')\n",
    "\n",
    "else:\n",
    "    print(price)\n",
    "    "
   ]
  },
  {
   "cell_type": "code",
   "execution_count": 28,
   "metadata": {},
   "outputs": [
    {
     "name": "stdout",
     "output_type": "stream",
     "text": [
      "1\n",
      "2\n",
      "3\n",
      "4\n",
      "5\n"
     ]
    }
   ],
   "source": [
    "##LOOPS \n",
    "#for loop\n",
    "\n",
    "for i in range(1,6):\n",
    "    print(i)\n"
   ]
  },
  {
   "cell_type": "code",
   "execution_count": 30,
   "metadata": {},
   "outputs": [
    {
     "name": "stdout",
     "output_type": "stream",
     "text": [
      "1\n",
      "3\n",
      "5\n",
      "7\n",
      "9\n"
     ]
    }
   ],
   "source": [
    "for i in range(1,10,2):\n",
    "    print(i)\n"
   ]
  },
  {
   "cell_type": "code",
   "execution_count": 31,
   "metadata": {},
   "outputs": [
    {
     "name": "stdout",
     "output_type": "stream",
     "text": [
      "10\n",
      "9\n",
      "8\n",
      "7\n",
      "6\n",
      "5\n",
      "4\n",
      "3\n",
      "2\n"
     ]
    }
   ],
   "source": [
    "for i in range(10,1,-1):\n",
    "    print(i)"
   ]
  },
  {
   "cell_type": "code",
   "execution_count": 32,
   "metadata": {},
   "outputs": [
    {
     "name": "stdout",
     "output_type": "stream",
     "text": [
      "10\n",
      "8\n",
      "6\n",
      "4\n",
      "2\n"
     ]
    }
   ],
   "source": [
    "for i in range(10,1,-2):\n",
    "    print(i)"
   ]
  },
  {
   "cell_type": "code",
   "execution_count": 35,
   "metadata": {},
   "outputs": [
    {
     "name": "stdout",
     "output_type": "stream",
     "text": [
      "a\n",
      "n\n",
      "u\n",
      "r\n",
      "a\n",
      "g\n"
     ]
    }
   ],
   "source": [
    "##strings\n",
    "st = \"anurag\"\n",
    "\n",
    "for i in st:\n",
    "    print(i)"
   ]
  },
  {
   "cell_type": "code",
   "execution_count": 38,
   "metadata": {},
   "outputs": [
    {
     "name": "stdout",
     "output_type": "stream",
     "text": [
      "0 1 2 3 4 "
     ]
    }
   ],
   "source": [
    "##while loop\n",
    "count = 0\n",
    "while count<5:\n",
    "    print(count, end=' ')\n",
    "    count+=1\n"
   ]
  },
  {
   "cell_type": "code",
   "execution_count": 39,
   "metadata": {},
   "outputs": [
    {
     "name": "stdout",
     "output_type": "stream",
     "text": [
      "0\n"
     ]
    }
   ],
   "source": [
    "count = 0\n",
    "while count%2 == 0:\n",
    "    print(count)\n",
    "    count+=1\n"
   ]
  },
  {
   "cell_type": "code",
   "execution_count": 45,
   "metadata": {},
   "outputs": [
    {
     "name": "stdout",
     "output_type": "stream",
     "text": [
      "0\n",
      "1\n",
      "2\n",
      "3\n",
      "4\n"
     ]
    }
   ],
   "source": [
    "##Loop control statements \n",
    "\n",
    "#break statement -> exits the loop prematurely \n",
    "\n",
    "for i in range(10):\n",
    "    if i==5:\n",
    "        break;\n",
    "    print(i)"
   ]
  },
  {
   "cell_type": "code",
   "execution_count": 46,
   "metadata": {},
   "outputs": [
    {
     "name": "stdout",
     "output_type": "stream",
     "text": [
      "1\n",
      "3\n",
      "5\n",
      "7\n",
      "9\n"
     ]
    }
   ],
   "source": [
    "##continue \n",
    "\n",
    "for i in range(10):\n",
    "    if i%2 == 0:\n",
    "        continue\n",
    "    print(i)"
   ]
  },
  {
   "cell_type": "code",
   "execution_count": 47,
   "metadata": {},
   "outputs": [
    {
     "name": "stdout",
     "output_type": "stream",
     "text": [
      "0\n",
      "1\n",
      "2\n",
      "3\n",
      "4\n",
      "5\n",
      "6\n",
      "7\n",
      "8\n",
      "9\n"
     ]
    }
   ],
   "source": [
    "## pass \n",
    "## it is a null operation and it does nothing \n",
    "\n",
    "for i in range(10):\n",
    "    if i == 3:\n",
    "        pass\n",
    "    print(i)"
   ]
  },
  {
   "cell_type": "code",
   "execution_count": 53,
   "metadata": {},
   "outputs": [
    {
     "name": "stdout",
     "output_type": "stream",
     "text": [
      "i:0 and j:0 and k:0\n",
      "i:0 and j:0 and k:1\n",
      "i:0 and j:1 and k:0\n",
      "i:0 and j:1 and k:1\n",
      "i:0 and j:2 and k:0\n",
      "i:0 and j:2 and k:1\n",
      "i:1 and j:0 and k:0\n",
      "i:1 and j:0 and k:1\n",
      "i:1 and j:1 and k:0\n",
      "i:1 and j:1 and k:1\n",
      "i:1 and j:2 and k:0\n",
      "i:1 and j:2 and k:1\n",
      "i:2 and j:0 and k:0\n",
      "i:2 and j:0 and k:1\n",
      "i:2 and j:1 and k:0\n",
      "i:2 and j:1 and k:1\n",
      "i:2 and j:2 and k:0\n",
      "i:2 and j:2 and k:1\n"
     ]
    }
   ],
   "source": [
    "## nested loops \n",
    "## a loop inside a loop\n",
    "\n",
    "for i in range(3):\n",
    "    for j in range(3):\n",
    "        for k in range(2):\n",
    "            print(f\"i:{i} and j:{j} and k:{k}\")"
   ]
  },
  {
   "cell_type": "code",
   "execution_count": 55,
   "metadata": {},
   "outputs": [
    {
     "name": "stdout",
     "output_type": "stream",
     "text": [
      "55\n"
     ]
    }
   ],
   "source": [
    "##Examples - calculate the sum of 1st N natural numbers using a while and for loop\n",
    "\n",
    "##using while loop\n",
    "\n",
    "n = int(input('enter the n natural number value'))\n",
    "count=0\n",
    "\n",
    "while n > 0:\n",
    "    count = count+n\n",
    "    n=n-1\n",
    "\n",
    "print(count)"
   ]
  },
  {
   "cell_type": "code",
   "execution_count": 57,
   "metadata": {},
   "outputs": [
    {
     "name": "stdout",
     "output_type": "stream",
     "text": [
      "55\n"
     ]
    }
   ],
   "source": [
    "#sum of n natural numbers using for loop\n",
    "\n",
    "n = int(input('enter the n natural number value'))\n",
    "count = 0\n",
    "\n",
    "for i in range(n+1):\n",
    "    count=count+i\n",
    "\n",
    "print(count)\n",
    "\n"
   ]
  },
  {
   "cell_type": "code",
   "execution_count": 66,
   "metadata": {},
   "outputs": [
    {
     "name": "stdout",
     "output_type": "stream",
     "text": [
      "2 3 5 7 11 13 17 19 23 29 31 37 41 43 47 53 59 61 67 71 73 79 83 89 97 74\n"
     ]
    }
   ],
   "source": [
    "##Example 2 :- Prime numbers between 1 and 100\n",
    "\n",
    "\n",
    "for num in range(1,101):\n",
    "    if num > 1:\n",
    "        for i in range(2,num):\n",
    "            if num%i==0:\n",
    "                break;\n",
    "        else:\n",
    "            print(num, end=' ')\n",
    "            "
   ]
  },
  {
   "cell_type": "code",
   "execution_count": null,
   "metadata": {},
   "outputs": [],
   "source": []
  }
 ],
 "metadata": {
  "kernelspec": {
   "display_name": "Python 3",
   "language": "python",
   "name": "python3"
  },
  "language_info": {
   "codemirror_mode": {
    "name": "ipython",
    "version": 3
   },
   "file_extension": ".py",
   "mimetype": "text/x-python",
   "name": "python",
   "nbconvert_exporter": "python",
   "pygments_lexer": "ipython3",
   "version": "3.12.0"
  },
  "orig_nbformat": 4
 },
 "nbformat": 4,
 "nbformat_minor": 2
}
